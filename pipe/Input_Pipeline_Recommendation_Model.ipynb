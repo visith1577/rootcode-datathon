{
 "cells": [
  {
   "cell_type": "code",
   "execution_count": 1,
   "metadata": {},
   "outputs": [],
   "source": [
    "import numpy as np\n",
    "import pandas as pd\n",
    "import matplotlib.pyplot as plt\n",
    "import seaborn as sns\n",
    "from sklearn.preprocessing import StandardScaler"
   ]
  },
  {
   "cell_type": "code",
   "execution_count": 2,
   "metadata": {},
   "outputs": [],
   "source": [
    "user_df = pd.read_excel('../Data/Visitors Preference Dataset.xlsx')\n",
    "places_df = pd.read_csv('../Data/Places Dataset Classified Reviews Cleaned Combined.csv')"
   ]
  },
  {
   "cell_type": "code",
   "execution_count": 3,
   "metadata": {},
   "outputs": [
    {
     "data": {
      "text/html": [
       "<div>\n",
       "<style scoped>\n",
       "    .dataframe tbody tr th:only-of-type {\n",
       "        vertical-align: middle;\n",
       "    }\n",
       "\n",
       "    .dataframe tbody tr th {\n",
       "        vertical-align: top;\n",
       "    }\n",
       "\n",
       "    .dataframe thead th {\n",
       "        text-align: right;\n",
       "    }\n",
       "</style>\n",
       "<table border=\"1\" class=\"dataframe\">\n",
       "  <thead>\n",
       "    <tr style=\"text-align: right;\">\n",
       "      <th></th>\n",
       "      <th>User ID</th>\n",
       "      <th>Name</th>\n",
       "      <th>Email</th>\n",
       "      <th>Preferred Activities</th>\n",
       "      <th>Bucket list destinations Sri Lanka</th>\n",
       "    </tr>\n",
       "  </thead>\n",
       "  <tbody>\n",
       "    <tr>\n",
       "      <th>0</th>\n",
       "      <td>1</td>\n",
       "      <td>Jennifer Quinn</td>\n",
       "      <td>jennifer.quinn@example.com</td>\n",
       "      <td>['cycling', 'historical monuments', 'village h...</td>\n",
       "      <td>['Polonnaruwa', 'Hatton', 'Anuradhapura', 'Ell...</td>\n",
       "    </tr>\n",
       "  </tbody>\n",
       "</table>\n",
       "</div>"
      ],
      "text/plain": [
       "   User ID            Name                       Email  \\\n",
       "0        1  Jennifer Quinn  jennifer.quinn@example.com   \n",
       "\n",
       "                                Preferred Activities  \\\n",
       "0  ['cycling', 'historical monuments', 'village h...   \n",
       "\n",
       "                  Bucket list destinations Sri Lanka  \n",
       "0  ['Polonnaruwa', 'Hatton', 'Anuradhapura', 'Ell...  "
      ]
     },
     "execution_count": 3,
     "metadata": {},
     "output_type": "execute_result"
    }
   ],
   "source": [
    "user_1 = user_df[user_df['User ID'] == 1]\n",
    "user_1"
   ]
  },
  {
   "cell_type": "code",
   "execution_count": 4,
   "metadata": {},
   "outputs": [
    {
     "data": {
      "text/plain": [
       "\"['cycling', 'historical monuments', 'village homestays']\""
      ]
     },
     "execution_count": 4,
     "metadata": {},
     "output_type": "execute_result"
    }
   ],
   "source": [
    "preferred_activities = user_1[\"Preferred Activities\"]\n",
    "preferred_activities[0]"
   ]
  },
  {
   "cell_type": "code",
   "execution_count": 5,
   "metadata": {},
   "outputs": [
    {
     "data": {
      "text/plain": [
       "['cycling', 'historical monuments', 'village homestays']"
      ]
     },
     "execution_count": 5,
     "metadata": {},
     "output_type": "execute_result"
    }
   ],
   "source": [
    "import ast\n",
    "\n",
    "def convert_string_to_list(input_string):\n",
    "    return ast.literal_eval(input_string)\n",
    "\n",
    "preferred_activities_array = convert_string_to_list(preferred_activities[0])\n",
    "preferred_activities_array"
   ]
  },
  {
   "cell_type": "code",
   "execution_count": 6,
   "metadata": {},
   "outputs": [
    {
     "data": {
      "text/plain": [
       "['Polonnaruwa', 'Hatton', 'Anuradhapura', 'Ella', 'Haputale']"
      ]
     },
     "execution_count": 6,
     "metadata": {},
     "output_type": "execute_result"
    }
   ],
   "source": [
    "prefered_destinations = user_1[\"Bucket list destinations Sri Lanka\"]\n",
    "prefered_destinations_array = convert_string_to_list(prefered_destinations[0])\n",
    "prefered_destinations_array"
   ]
  },
  {
   "cell_type": "code",
   "execution_count": 8,
   "metadata": {},
   "outputs": [],
   "source": [
    "places_df = places_df[[\"name\",\"activities\",\"combined_info\"]]"
   ]
  },
  {
   "cell_type": "code",
   "execution_count": 9,
   "metadata": {},
   "outputs": [],
   "source": [
    "def find_places_based_on_user_preferences(prefered_destinations_array):\n",
    "    places = []\n",
    "    for destination in prefered_destinations_array:\n",
    "        places.append(places_df[(places_df['name'] == destination)])\n",
    "\n",
    "    return places"
   ]
  },
  {
   "cell_type": "code",
   "execution_count": 10,
   "metadata": {},
   "outputs": [],
   "source": [
    "input_places = find_places_based_on_user_preferences(prefered_destinations_array)"
   ]
  },
  {
   "cell_type": "code",
   "execution_count": 11,
   "metadata": {},
   "outputs": [
    {
     "data": {
      "text/plain": [
       "['cycling', 'historical monuments', 'village homestays']"
      ]
     },
     "execution_count": 11,
     "metadata": {},
     "output_type": "execute_result"
    }
   ],
   "source": [
    "input_activities = preferred_activities_array\n",
    "input_activities"
   ]
  },
  {
   "cell_type": "code",
   "execution_count": 12,
   "metadata": {},
   "outputs": [
    {
     "data": {
      "text/plain": [
       "[           name                                         activities  \\\n",
       " 95  Polonnaruwa  ['Exploring the Ancient Ruins', 'Bicycle Tours...   \n",
       " \n",
       "                                         combined_info  \n",
       " 95  polonnaruwa unesco world heritage site sri lan...  ,\n",
       " Empty DataFrame\n",
       " Columns: [name, activities, combined_info]\n",
       " Index: [],\n",
       "             name                                         activities  \\\n",
       " 23  Anuradhapura  ['Visit the sacred Sri Maha Bodhi tree.', 'Exp...   \n",
       " \n",
       "                                         combined_info  \n",
       " 23  anuradhapura unesco world heritage site sri la...  ,\n",
       " Empty DataFrame\n",
       " Columns: [name, activities, combined_info]\n",
       " Index: [],\n",
       "         name                                         activities  \\\n",
       " 78  Haputale  ['Hiking to Ella Rock', \"Exploring Lipton's Se...   \n",
       " \n",
       "                                         combined_info  \n",
       " 78  haputale charming hill town sri lanka known st...  ]"
      ]
     },
     "execution_count": 12,
     "metadata": {},
     "output_type": "execute_result"
    }
   ],
   "source": [
    "input_places"
   ]
  }
 ],
 "metadata": {
  "kernelspec": {
   "display_name": "td",
   "language": "python",
   "name": "python3"
  },
  "language_info": {
   "codemirror_mode": {
    "name": "ipython",
    "version": 3
   },
   "file_extension": ".py",
   "mimetype": "text/x-python",
   "name": "python",
   "nbconvert_exporter": "python",
   "pygments_lexer": "ipython3",
   "version": "3.10.0"
  }
 },
 "nbformat": 4,
 "nbformat_minor": 2
}
