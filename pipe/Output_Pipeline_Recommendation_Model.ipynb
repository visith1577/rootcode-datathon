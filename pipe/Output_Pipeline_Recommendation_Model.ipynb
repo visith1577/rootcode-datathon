{
 "cells": [
  {
   "cell_type": "code",
   "execution_count": 1,
   "metadata": {},
   "outputs": [],
   "source": [
    "import numpy as np\n",
    "import pandas as pd\n",
    "import matplotlib.pyplot as plt\n",
    "import seaborn as sns\n",
    "import random\n",
    "from collections import Counter"
   ]
  },
  {
   "cell_type": "code",
   "execution_count": 2,
   "metadata": {},
   "outputs": [],
   "source": [
    "user_df = pd.read_excel('../Data/Visitors Preference Dataset.xlsx')\n",
    "places_df = pd.read_csv('../Data/Places Dataset Classified Reviews Cleaned Combined.csv')"
   ]
  },
  {
   "cell_type": "code",
   "execution_count": 3,
   "metadata": {},
   "outputs": [
    {
     "data": {
      "text/html": [
       "<div>\n",
       "<style scoped>\n",
       "    .dataframe tbody tr th:only-of-type {\n",
       "        vertical-align: middle;\n",
       "    }\n",
       "\n",
       "    .dataframe tbody tr th {\n",
       "        vertical-align: top;\n",
       "    }\n",
       "\n",
       "    .dataframe thead th {\n",
       "        text-align: right;\n",
       "    }\n",
       "</style>\n",
       "<table border=\"1\" class=\"dataframe\">\n",
       "  <thead>\n",
       "    <tr style=\"text-align: right;\">\n",
       "      <th></th>\n",
       "      <th>name</th>\n",
       "      <th>rating</th>\n",
       "      <th>negetive_rate</th>\n",
       "    </tr>\n",
       "  </thead>\n",
       "  <tbody>\n",
       "    <tr>\n",
       "      <th>0</th>\n",
       "      <td>Arugam Bay Beach</td>\n",
       "      <td>4.800000</td>\n",
       "      <td>0.0</td>\n",
       "    </tr>\n",
       "    <tr>\n",
       "      <th>1</th>\n",
       "      <td>Mirissa Beach</td>\n",
       "      <td>4.600000</td>\n",
       "      <td>0.0</td>\n",
       "    </tr>\n",
       "    <tr>\n",
       "      <th>2</th>\n",
       "      <td>Weligama Beach (surf and stay)</td>\n",
       "      <td>4.400000</td>\n",
       "      <td>0.0</td>\n",
       "    </tr>\n",
       "    <tr>\n",
       "      <th>3</th>\n",
       "      <td>Ahangama</td>\n",
       "      <td>4.459437</td>\n",
       "      <td>0.2</td>\n",
       "    </tr>\n",
       "    <tr>\n",
       "      <th>4</th>\n",
       "      <td>Hikkaduwa Beach</td>\n",
       "      <td>4.700000</td>\n",
       "      <td>0.0</td>\n",
       "    </tr>\n",
       "  </tbody>\n",
       "</table>\n",
       "</div>"
      ],
      "text/plain": [
       "                             name    rating  negetive_rate\n",
       "0                Arugam Bay Beach  4.800000            0.0\n",
       "1                   Mirissa Beach  4.600000            0.0\n",
       "2  Weligama Beach (surf and stay)  4.400000            0.0\n",
       "3                        Ahangama  4.459437            0.2\n",
       "4                 Hikkaduwa Beach  4.700000            0.0"
      ]
     },
     "execution_count": 3,
     "metadata": {},
     "output_type": "execute_result"
    }
   ],
   "source": [
    "places_df = places_df[['name', 'rating' ,'negetive_rate']]\n",
    "places_df.head()"
   ]
  },
  {
   "cell_type": "code",
   "execution_count": 4,
   "metadata": {},
   "outputs": [
    {
     "data": {
      "text/html": [
       "<div>\n",
       "<style scoped>\n",
       "    .dataframe tbody tr th:only-of-type {\n",
       "        vertical-align: middle;\n",
       "    }\n",
       "\n",
       "    .dataframe tbody tr th {\n",
       "        vertical-align: top;\n",
       "    }\n",
       "\n",
       "    .dataframe thead th {\n",
       "        text-align: right;\n",
       "    }\n",
       "</style>\n",
       "<table border=\"1\" class=\"dataframe\">\n",
       "  <thead>\n",
       "    <tr style=\"text-align: right;\">\n",
       "      <th></th>\n",
       "      <th>Index</th>\n",
       "      <th>Confidence</th>\n",
       "    </tr>\n",
       "  </thead>\n",
       "  <tbody>\n",
       "    <tr>\n",
       "      <th>0</th>\n",
       "      <td>385</td>\n",
       "      <td>0.643177</td>\n",
       "    </tr>\n",
       "    <tr>\n",
       "      <th>1</th>\n",
       "      <td>257</td>\n",
       "      <td>0.947781</td>\n",
       "    </tr>\n",
       "    <tr>\n",
       "      <th>2</th>\n",
       "      <td>255</td>\n",
       "      <td>0.502589</td>\n",
       "    </tr>\n",
       "    <tr>\n",
       "      <th>3</th>\n",
       "      <td>390</td>\n",
       "      <td>0.677127</td>\n",
       "    </tr>\n",
       "    <tr>\n",
       "      <th>4</th>\n",
       "      <td>6</td>\n",
       "      <td>0.387263</td>\n",
       "    </tr>\n",
       "  </tbody>\n",
       "</table>\n",
       "</div>"
      ],
      "text/plain": [
       "   Index  Confidence\n",
       "0    385    0.643177\n",
       "1    257    0.947781\n",
       "2    255    0.502589\n",
       "3    390    0.677127\n",
       "4      6    0.387263"
      ]
     },
     "execution_count": 4,
     "metadata": {},
     "output_type": "execute_result"
    }
   ],
   "source": [
    "def generate_recommended_indexes(size=50, max_index=400):\n",
    "    random_indexes = np.random.choice(np.arange(0, max_index + 1), size=size, replace=True)\n",
    "    unique_indexes = set(random_indexes)\n",
    "    confidence_scores = np.random.rand(len(unique_indexes))\n",
    "    df_recommended = pd.DataFrame({\n",
    "        'Index': list(unique_indexes),\n",
    "        'Confidence': confidence_scores\n",
    "    })\n",
    "    \n",
    "    return df_recommended\n",
    "\n",
    "df_recommended_indexes = generate_recommended_indexes(size=50, max_index=400)\n",
    "df_recommended_indexes.head()"
   ]
  },
  {
   "cell_type": "code",
   "execution_count": 5,
   "metadata": {},
   "outputs": [
    {
     "data": {
      "text/plain": [
       "(47, 4)"
      ]
     },
     "execution_count": 5,
     "metadata": {},
     "output_type": "execute_result"
    }
   ],
   "source": [
    "import pandas as pd\n",
    "\n",
    "def find_places_by_index(df_recommended_indexes, places_df):\n",
    "    # Extract the indexes and confidence scores from the provided DataFrame\n",
    "    indexes = df_recommended_indexes[\"Index\"].tolist()\n",
    "    confidence_scores = df_recommended_indexes[\"Confidence\"].tolist()\n",
    "    \n",
    "    # Retrieve places based on indexes\n",
    "    # Convert indexes to integer type if necessary (for safety)\n",
    "    indexes = list(map(int, indexes))\n",
    "    places = [places_df.iloc[index] for index in indexes]\n",
    "    \n",
    "    # Create a DataFrame for the retrieved places\n",
    "    df_places = pd.DataFrame(places).reset_index(drop=True)\n",
    "    \n",
    "    # Ensure the places DataFrame index matches the order of the provided indexes\n",
    "    df_places.index = indexes\n",
    "    \n",
    "    # Create a DataFrame for the confidence scores\n",
    "    df_confidence = pd.DataFrame({\n",
    "        'Confidence': confidence_scores\n",
    "    }, index=indexes)\n",
    "    \n",
    "    # Merge the places DataFrame with the confidence scores DataFrame\n",
    "    df_places_with_confidence = df_places.join(df_confidence, how='left')\n",
    "    \n",
    "    return df_places_with_confidence\n",
    "\n",
    "# Example usage:\n",
    "df_places_2 = find_places_by_index(df_recommended_indexes, places_df)\n",
    "df_places_2.shape\n"
   ]
  },
  {
   "cell_type": "code",
   "execution_count": 6,
   "metadata": {},
   "outputs": [
    {
     "data": {
      "text/plain": [
       "(46, 4)"
      ]
     },
     "execution_count": 6,
     "metadata": {},
     "output_type": "execute_result"
    }
   ],
   "source": [
    "def check_negetive_rate(places_df, user_df):\n",
    "    places = []\n",
    "    for index, row in places_df.iterrows():\n",
    "        if row['negetive_rate'] <= 0.2:\n",
    "            places.append(row)\n",
    "    return pd.DataFrame(places)\n",
    "\n",
    "df_places_3 = check_negetive_rate(df_places_2, user_df)\n",
    "df_places_3.shape"
   ]
  },
  {
   "cell_type": "code",
   "execution_count": 7,
   "metadata": {},
   "outputs": [
    {
     "data": {
      "text/html": [
       "<div>\n",
       "<style scoped>\n",
       "    .dataframe tbody tr th:only-of-type {\n",
       "        vertical-align: middle;\n",
       "    }\n",
       "\n",
       "    .dataframe tbody tr th {\n",
       "        vertical-align: top;\n",
       "    }\n",
       "\n",
       "    .dataframe thead th {\n",
       "        text-align: right;\n",
       "    }\n",
       "</style>\n",
       "<table border=\"1\" class=\"dataframe\">\n",
       "  <thead>\n",
       "    <tr style=\"text-align: right;\">\n",
       "      <th></th>\n",
       "      <th>name</th>\n",
       "      <th>rating</th>\n",
       "      <th>negetive_rate</th>\n",
       "      <th>Confidence</th>\n",
       "    </tr>\n",
       "  </thead>\n",
       "  <tbody>\n",
       "    <tr>\n",
       "      <th>172</th>\n",
       "      <td>Dehiwala Zoological Gardens</td>\n",
       "      <td>4.4</td>\n",
       "      <td>0.0</td>\n",
       "      <td>0.970590</td>\n",
       "    </tr>\n",
       "    <tr>\n",
       "      <th>72</th>\n",
       "      <td>Madu Ganga</td>\n",
       "      <td>4.6</td>\n",
       "      <td>0.0</td>\n",
       "      <td>0.966611</td>\n",
       "    </tr>\n",
       "    <tr>\n",
       "      <th>276</th>\n",
       "      <td>Hatadage</td>\n",
       "      <td>4.5</td>\n",
       "      <td>0.0</td>\n",
       "      <td>0.956219</td>\n",
       "    </tr>\n",
       "    <tr>\n",
       "      <th>257</th>\n",
       "      <td>Monument of Victory</td>\n",
       "      <td>4.3</td>\n",
       "      <td>0.2</td>\n",
       "      <td>0.947781</td>\n",
       "    </tr>\n",
       "    <tr>\n",
       "      <th>40</th>\n",
       "      <td>Dutch Museum</td>\n",
       "      <td>3.7</td>\n",
       "      <td>0.0</td>\n",
       "      <td>0.929991</td>\n",
       "    </tr>\n",
       "  </tbody>\n",
       "</table>\n",
       "</div>"
      ],
      "text/plain": [
       "                            name  rating  negetive_rate  Confidence\n",
       "172  Dehiwala Zoological Gardens     4.4            0.0    0.970590\n",
       "72                    Madu Ganga     4.6            0.0    0.966611\n",
       "276                     Hatadage     4.5            0.0    0.956219\n",
       "257          Monument of Victory     4.3            0.2    0.947781\n",
       "40                  Dutch Museum     3.7            0.0    0.929991"
      ]
     },
     "execution_count": 7,
     "metadata": {},
     "output_type": "execute_result"
    }
   ],
   "source": [
    "def sort_by_confidence_then_rating(df_places):\n",
    "    df_places_sorted = df_places.sort_values(by=['Confidence', 'rating'], ascending=False)\n",
    "    return df_places_sorted\n",
    "\n",
    "df_places_4 = sort_by_confidence_then_rating(df_places_3)\n",
    "df_places_4.head(5)"
   ]
  }
 ],
 "metadata": {
  "kernelspec": {
   "display_name": "td",
   "language": "python",
   "name": "python3"
  },
  "language_info": {
   "codemirror_mode": {
    "name": "ipython",
    "version": 3
   },
   "file_extension": ".py",
   "mimetype": "text/x-python",
   "name": "python",
   "nbconvert_exporter": "python",
   "pygments_lexer": "ipython3",
   "version": "3.10.0"
  }
 },
 "nbformat": 4,
 "nbformat_minor": 2
}
