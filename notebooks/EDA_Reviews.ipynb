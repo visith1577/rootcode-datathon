{
  "cells": [
    {
      "cell_type": "code",
      "execution_count": 78,
      "metadata": {
        "id": "IdH1aPzXSzbZ"
      },
      "outputs": [],
      "source": [
        "import numpy as np\n",
        "import pandas as pd"
      ]
    },
    {
      "cell_type": "code",
      "execution_count": 79,
      "metadata": {
        "colab": {
          "base_uri": "https://localhost:8080/"
        },
        "id": "evFizfhoC4ot",
        "outputId": "501799ce-4b87-4ea1-8cb9-3e2f2f0f21d9"
      },
      "outputs": [
        {
          "name": "stderr",
          "output_type": "stream",
          "text": [
            "/usr/local/lib/python3.10/dist-packages/transformers/tokenization_utils_base.py:1601: FutureWarning: `clean_up_tokenization_spaces` was not set. It will be set to `True` by default. This behavior will be depracted in transformers v4.45, and will be then set to `False` by default. For more details check this issue: https://github.com/huggingface/transformers/issues/31884\n",
            "  warnings.warn(\n"
          ]
        }
      ],
      "source": [
        "from transformers import AutoTokenizer, AutoModelForSequenceClassification\n",
        "\n",
        "tokenizer = AutoTokenizer.from_pretrained(\"anchit48/fine-tuned-sentiment-analysis-customer-feedback\")\n",
        "model = AutoModelForSequenceClassification.from_pretrained(\"anchit48/fine-tuned-sentiment-analysis-customer-feedback\")"
      ]
    },
    {
      "cell_type": "code",
      "execution_count": 80,
      "metadata": {
        "id": "Dmk-_IZSC6Co"
      },
      "outputs": [],
      "source": [
        "import torch\n",
        "\n",
        "text = \"Mirissa Beach is truly a gem on Sri Lanka’s southern coast! The soft, golden sand and crystal-clear waters are perfect for lounging or taking a dip\"\n",
        "\n",
        "def make_prediction(text):\n",
        "    inputs = tokenizer(text, return_tensors='pt', truncation=True, padding=True)\n",
        "\n",
        "    with torch.no_grad():\n",
        "        outputs = model(**inputs)\n",
        "\n",
        "    logits = outputs.logits\n",
        "    predicted_class = torch.argmax(logits, dim=1).item()\n",
        "\n",
        "    return predicted_class"
      ]
    },
    {
      "cell_type": "code",
      "execution_count": 81,
      "metadata": {
        "colab": {
          "base_uri": "https://localhost:8080/"
        },
        "id": "Xe-Cic2xEWkR",
        "outputId": "fe0634d5-a058-4b3a-9cae-8ebdf2409a5a"
      },
      "outputs": [
        {
          "data": {
            "text/plain": [
              "0"
            ]
          },
          "execution_count": 81,
          "metadata": {},
          "output_type": "execute_result"
        }
      ],
      "source": [
        "negetive = \"this very bad place I dont want to be here\"\n",
        "make_prediction(negetive)"
      ]
    },
    {
      "cell_type": "code",
      "execution_count": 82,
      "metadata": {
        "colab": {
          "base_uri": "https://localhost:8080/",
          "height": 293
        },
        "id": "e3HEWADeEdMa",
        "outputId": "8c696b5d-124b-49dc-d368-7f0d3aacb74a"
      },
      "outputs": [
        {
          "data": {
            "application/vnd.google.colaboratory.intrinsic+json": {
              "summary": "{\n  \"name\": \"df\",\n  \"rows\": 411,\n  \"fields\": [\n    {\n      \"column\": \"name\",\n      \"properties\": {\n        \"dtype\": \"string\",\n        \"num_unique_values\": 398,\n        \"samples\": [\n          \"Yala Green Safari\",\n          \"Marakolliya Beach\",\n          \"Jungle Beach\"\n        ],\n        \"semantic_type\": \"\",\n        \"description\": \"\"\n      }\n    },\n    {\n      \"column\": \"lat\",\n      \"properties\": {\n        \"dtype\": \"number\",\n        \"std\": 0.9948409871056165,\n        \"min\": 5.9413814,\n        \"max\": 9.820859400000002,\n        \"num_unique_values\": 402,\n        \"samples\": [\n          8.2273054,\n          7.9425092,\n          6.0186943\n        ],\n        \"semantic_type\": \"\",\n        \"description\": \"\"\n      }\n    },\n    {\n      \"column\": \"lng\",\n      \"properties\": {\n        \"dtype\": \"number\",\n        \"std\": 0.5185713562076991,\n        \"min\": 79.6941835,\n        \"max\": 81.8595828,\n        \"num_unique_values\": 398,\n        \"samples\": [\n          81.3332777,\n          80.823073,\n          80.2394104\n        ],\n        \"semantic_type\": \"\",\n        \"description\": \"\"\n      }\n    },\n    {\n      \"column\": \"formatted_address\",\n      \"properties\": {\n        \"dtype\": \"string\",\n        \"num_unique_values\": 220,\n        \"samples\": [\n          \"Kalametiya, Sri Lanka\",\n          \"Mannar, Sri Lanka\",\n          \"Buddangala, Sri Lanka\"\n        ],\n        \"semantic_type\": \"\",\n        \"description\": \"\"\n      }\n    },\n    {\n      \"column\": \"rating\",\n      \"properties\": {\n        \"dtype\": \"number\",\n        \"std\": 0.4332112626539577,\n        \"min\": 0.9,\n        \"max\": 5.0,\n        \"num_unique_values\": 24,\n        \"samples\": [\n          4.2,\n          3.4,\n          4.8\n        ],\n        \"semantic_type\": \"\",\n        \"description\": \"\"\n      }\n    },\n    {\n      \"column\": \"user_ratings_total\",\n      \"properties\": {\n        \"dtype\": \"number\",\n        \"std\": 3607.6787519084114,\n        \"min\": 27.0,\n        \"max\": 26736.0,\n        \"num_unique_values\": 316,\n        \"samples\": [\n          3048.0,\n          464.0,\n          354.0\n        ],\n        \"semantic_type\": \"\",\n        \"description\": \"\"\n      }\n    },\n    {\n      \"column\": \"latest_reviews\",\n      \"properties\": {\n        \"dtype\": \"string\",\n        \"num_unique_values\": 411,\n        \"samples\": [\n          \"['Mayan Water Park was a decent outing for my family. The wave pool was definitely the highlight, but we found the number of attractions limited for the price. The facilities could use some upgrades, as everything felt a bit dated. The staff were friendly and helpful, which made up for some of the shortcomings. Overall, a nice day but not worth a repeat visit anytime soon.', 'I visited Mayan Water Park with friends and we had a good time. The vibe was fun, but there were not enough tubes for everyone, which led to some frustrating moments. The wave pool was enjoyable, but I expected more variety in activities. It\\u00c3\\u00a2\\u00c2\\u20ac\\u00c2\\u2122s a good place to relax, but if you\\u00c3\\u00a2\\u00c2\\u20ac\\u00c2\\u2122re looking for excitement, you might want to look elsewhere.', 'As a couple, we found Mayan Water Park to be a mixed bag. The atmosphere was lively, but the lack of cleanliness and some areas under repair were disappointing. The wave pool is enjoyable, but we wished there were more options to explore. It\\u00c3\\u00a2\\u00c2\\u20ac\\u00c2\\u2122s a decent spot for a casual day out, but it needs some improvements to really shine.', 'I took my kids to Mayan Water Park and they had a blast! They loved the wave pool, and the area was safe for them to play. However, I was disappointed with the limited number of activities and the overall maintenance of the park. It could definitely benefit from more attractions and better cleanliness. Still, we had a fun day together.', 'I was excited to visit Mayan Water Park, but it fell short of my expectations. The wave pool was fun, but the park felt overcrowded, and we struggled to find a tube to use. The management really needs to consider adding more tubes or controlling the number of visitors. While it\\u00c3\\u00a2\\u00c2\\u20ac\\u00c2\\u2122s a nice place for kids, I wouldn't recommend it for adults looking for a thrilling experience.']\",\n          \"['Jungle Beach is a hidden gem! The trek to get there is a bit challenging, but the tranquility and beauty of the beach make it an unforgettable experience. The water is crystal clear, perfect for swimming and relaxing. Just be prepared for a lack of facilities, but the nearby shops sell cold drinks and snacks. Definitely worth the visit!', 'What a fantastic beach day! The walk through the jungle adds to the adventure, and once you reach the beach, it\\u00c3\\u00a2\\u00c2\\u20ac\\u00c2\\u2122s pure paradise. The soft sand and calm waters are ideal for swimming. However, I did notice some litter, which detracted from the natural beauty. If they could manage the cleanliness better, it would be perfect!', 'We spent a wonderful afternoon at Jungle Beach. The scenery is breathtaking, and the atmosphere is so peaceful. Great spot for snorkeling; we saw plenty of colorful fish! Just be careful when navigating the rocky areas. Overall, it\\u00c3\\u00a2\\u00c2\\u20ac\\u00c2\\u2122s a beautiful place, but the path to get there can be a bit rugged.', 'Jungle Beach is a lovely escape from the bustling tourist spots. The beach is serene, and the jungle surroundings offer a unique experience. We enjoyed swimming and relaxing on the sand. It\\u00c3\\u00a2\\u00c2\\u20ac\\u00c2\\u2122s not overly commercialized, which is refreshing, but more facilities would enhance the experience. Bring your own snacks!', 'This beach is truly picturesque! The combination of jungle and ocean is mesmerizing. Swimming here feels so refreshing. The only downside was the litter I saw on the shore. It\\u00c3\\u00a2\\u00c2\\u20ac\\u00c2\\u2122s a shame because the natural beauty is incredible. If they could keep it cleaner, it would be a top-notch destination!']\",\n          \"['Makandawa Conservation Center is a true gem! The biodiversity here is astonishing, and the boat ride to the forest entrance was a highlight. We spotted several endemic species and enjoyed the refreshing swim at \\u00c3\\u00a2\\u00c2\\u20ac\\u00c2\\u0153atha vatuna vala.\\u00c3\\u00a2\\u00c2\\u20ac\\u00c2_x009d_ Just be prepared for leeches and bring some insect repellent! Overall, a fantastic way to connect with nature and unwind.', 'I visited Makandawa with my friends and had a blast! The lush greenery and peaceful atmosphere provided the perfect escape from the city. We also tried river rafting, which was exhilarating! One tip: make sure to check the ferry prices beforehand, as we felt a bit overcharged. Still, we loved the adventure and the stunning natural beauty!', 'As a couple, we thoroughly enjoyed our time at Makandawa. The serene surroundings and the unique biodiversity made for a romantic getaway. The boat ride was a charming experience, and we appreciated the guidance from the staff. However, the entrance process was a bit confusing, so clearer instructions would have helped. Overall, a lovely place to reconnect with nature.', 'Our family trip to Makandawa was unforgettable! The kids were thrilled to see various wildlife, and swimming in the natural pools was a highlight for them. We felt it was a bit pricey for the boat service, but the experience was worth it. Don\\u00c3\\u00a2\\u00c2\\u20ac\\u00c2\\u2122t forget to bring snacks and plenty of water for the trek!', 'I had high expectations for Makandawa, given its reputation, and it mostly delivered. The forest is beautiful, and the boat crossing was fun, but I wish there were more marked trails for hiking. I did enjoy the endemic species we encountered, but the leeches were a bit of a nuisance. Still, it\\u00c3\\u00a2\\u00c2\\u20ac\\u00c2\\u2122s a worthwhile visit for nature lovers.']\"\n        ],\n        \"semantic_type\": \"\",\n        \"description\": \"\"\n      }\n    }\n  ]\n}",
              "type": "dataframe",
              "variable_name": "df"
            },
            "text/html": [
              "\n",
              "  <div id=\"df-d2269954-80ad-4bf1-8b47-e6498cdc2a5b\" class=\"colab-df-container\">\n",
              "    <div>\n",
              "<style scoped>\n",
              "    .dataframe tbody tr th:only-of-type {\n",
              "        vertical-align: middle;\n",
              "    }\n",
              "\n",
              "    .dataframe tbody tr th {\n",
              "        vertical-align: top;\n",
              "    }\n",
              "\n",
              "    .dataframe thead th {\n",
              "        text-align: right;\n",
              "    }\n",
              "</style>\n",
              "<table border=\"1\" class=\"dataframe\">\n",
              "  <thead>\n",
              "    <tr style=\"text-align: right;\">\n",
              "      <th></th>\n",
              "      <th>name</th>\n",
              "      <th>lat</th>\n",
              "      <th>lng</th>\n",
              "      <th>formatted_address</th>\n",
              "      <th>rating</th>\n",
              "      <th>user_ratings_total</th>\n",
              "      <th>latest_reviews</th>\n",
              "    </tr>\n",
              "  </thead>\n",
              "  <tbody>\n",
              "    <tr>\n",
              "      <th>0</th>\n",
              "      <td>Arugam Bay Beach</td>\n",
              "      <td>6.840408</td>\n",
              "      <td>81.836848</td>\n",
              "      <td>Arugam Bay Beach, Sri Lanka</td>\n",
              "      <td>4.8</td>\n",
              "      <td>1591.0</td>\n",
              "      <td>['Arugam Bay Beach is a surfer's paradise! I s...</td>\n",
              "    </tr>\n",
              "    <tr>\n",
              "      <th>1</th>\n",
              "      <td>Mirissa Beach</td>\n",
              "      <td>5.944703</td>\n",
              "      <td>80.459161</td>\n",
              "      <td>Mirissa, Sri Lanka</td>\n",
              "      <td>4.6</td>\n",
              "      <td>1748.0</td>\n",
              "      <td>['Mirissa Beach is truly a gem on Sri LankaÃ¢Â...</td>\n",
              "    </tr>\n",
              "    <tr>\n",
              "      <th>2</th>\n",
              "      <td>Weligama Beach (surf and stay)</td>\n",
              "      <td>5.972486</td>\n",
              "      <td>80.435714</td>\n",
              "      <td>Weligama, Sri Lanka</td>\n",
              "      <td>4.4</td>\n",
              "      <td>325.0</td>\n",
              "      <td>['Weligama Beach is a fantastic spot for both ...</td>\n",
              "    </tr>\n",
              "    <tr>\n",
              "      <th>3</th>\n",
              "      <td>Ahangama</td>\n",
              "      <td>5.973975</td>\n",
              "      <td>80.362159</td>\n",
              "      <td>Ahangama, Sri Lanka</td>\n",
              "      <td>NaN</td>\n",
              "      <td>NaN</td>\n",
              "      <td>['Ahangama was a bit disappointing for me as a...</td>\n",
              "    </tr>\n",
              "    <tr>\n",
              "      <th>4</th>\n",
              "      <td>Hikkaduwa Beach</td>\n",
              "      <td>6.137727</td>\n",
              "      <td>80.099060</td>\n",
              "      <td>Hikkaduwa Beach, Sri Lanka</td>\n",
              "      <td>4.7</td>\n",
              "      <td>1438.0</td>\n",
              "      <td>['Hikkaduwa Beach is a delightful escape for s...</td>\n",
              "    </tr>\n",
              "  </tbody>\n",
              "</table>\n",
              "</div>\n",
              "    <div class=\"colab-df-buttons\">\n",
              "\n",
              "  <div class=\"colab-df-container\">\n",
              "    <button class=\"colab-df-convert\" onclick=\"convertToInteractive('df-d2269954-80ad-4bf1-8b47-e6498cdc2a5b')\"\n",
              "            title=\"Convert this dataframe to an interactive table.\"\n",
              "            style=\"display:none;\">\n",
              "\n",
              "  <svg xmlns=\"http://www.w3.org/2000/svg\" height=\"24px\" viewBox=\"0 -960 960 960\">\n",
              "    <path d=\"M120-120v-720h720v720H120Zm60-500h600v-160H180v160Zm220 220h160v-160H400v160Zm0 220h160v-160H400v160ZM180-400h160v-160H180v160Zm440 0h160v-160H620v160ZM180-180h160v-160H180v160Zm440 0h160v-160H620v160Z\"/>\n",
              "  </svg>\n",
              "    </button>\n",
              "\n",
              "  <style>\n",
              "    .colab-df-container {\n",
              "      display:flex;\n",
              "      gap: 12px;\n",
              "    }\n",
              "\n",
              "    .colab-df-convert {\n",
              "      background-color: #E8F0FE;\n",
              "      border: none;\n",
              "      border-radius: 50%;\n",
              "      cursor: pointer;\n",
              "      display: none;\n",
              "      fill: #1967D2;\n",
              "      height: 32px;\n",
              "      padding: 0 0 0 0;\n",
              "      width: 32px;\n",
              "    }\n",
              "\n",
              "    .colab-df-convert:hover {\n",
              "      background-color: #E2EBFA;\n",
              "      box-shadow: 0px 1px 2px rgba(60, 64, 67, 0.3), 0px 1px 3px 1px rgba(60, 64, 67, 0.15);\n",
              "      fill: #174EA6;\n",
              "    }\n",
              "\n",
              "    .colab-df-buttons div {\n",
              "      margin-bottom: 4px;\n",
              "    }\n",
              "\n",
              "    [theme=dark] .colab-df-convert {\n",
              "      background-color: #3B4455;\n",
              "      fill: #D2E3FC;\n",
              "    }\n",
              "\n",
              "    [theme=dark] .colab-df-convert:hover {\n",
              "      background-color: #434B5C;\n",
              "      box-shadow: 0px 1px 3px 1px rgba(0, 0, 0, 0.15);\n",
              "      filter: drop-shadow(0px 1px 2px rgba(0, 0, 0, 0.3));\n",
              "      fill: #FFFFFF;\n",
              "    }\n",
              "  </style>\n",
              "\n",
              "    <script>\n",
              "      const buttonEl =\n",
              "        document.querySelector('#df-d2269954-80ad-4bf1-8b47-e6498cdc2a5b button.colab-df-convert');\n",
              "      buttonEl.style.display =\n",
              "        google.colab.kernel.accessAllowed ? 'block' : 'none';\n",
              "\n",
              "      async function convertToInteractive(key) {\n",
              "        const element = document.querySelector('#df-d2269954-80ad-4bf1-8b47-e6498cdc2a5b');\n",
              "        const dataTable =\n",
              "          await google.colab.kernel.invokeFunction('convertToInteractive',\n",
              "                                                    [key], {});\n",
              "        if (!dataTable) return;\n",
              "\n",
              "        const docLinkHtml = 'Like what you see? Visit the ' +\n",
              "          '<a target=\"_blank\" href=https://colab.research.google.com/notebooks/data_table.ipynb>data table notebook</a>'\n",
              "          + ' to learn more about interactive tables.';\n",
              "        element.innerHTML = '';\n",
              "        dataTable['output_type'] = 'display_data';\n",
              "        await google.colab.output.renderOutput(dataTable, element);\n",
              "        const docLink = document.createElement('div');\n",
              "        docLink.innerHTML = docLinkHtml;\n",
              "        element.appendChild(docLink);\n",
              "      }\n",
              "    </script>\n",
              "  </div>\n",
              "\n",
              "\n",
              "<div id=\"df-2bc3973f-7329-47b0-b47e-1a1d01aa3f10\">\n",
              "  <button class=\"colab-df-quickchart\" onclick=\"quickchart('df-2bc3973f-7329-47b0-b47e-1a1d01aa3f10')\"\n",
              "            title=\"Suggest charts\"\n",
              "            style=\"display:none;\">\n",
              "\n",
              "<svg xmlns=\"http://www.w3.org/2000/svg\" height=\"24px\"viewBox=\"0 0 24 24\"\n",
              "     width=\"24px\">\n",
              "    <g>\n",
              "        <path d=\"M19 3H5c-1.1 0-2 .9-2 2v14c0 1.1.9 2 2 2h14c1.1 0 2-.9 2-2V5c0-1.1-.9-2-2-2zM9 17H7v-7h2v7zm4 0h-2V7h2v10zm4 0h-2v-4h2v4z\"/>\n",
              "    </g>\n",
              "</svg>\n",
              "  </button>\n",
              "\n",
              "<style>\n",
              "  .colab-df-quickchart {\n",
              "      --bg-color: #E8F0FE;\n",
              "      --fill-color: #1967D2;\n",
              "      --hover-bg-color: #E2EBFA;\n",
              "      --hover-fill-color: #174EA6;\n",
              "      --disabled-fill-color: #AAA;\n",
              "      --disabled-bg-color: #DDD;\n",
              "  }\n",
              "\n",
              "  [theme=dark] .colab-df-quickchart {\n",
              "      --bg-color: #3B4455;\n",
              "      --fill-color: #D2E3FC;\n",
              "      --hover-bg-color: #434B5C;\n",
              "      --hover-fill-color: #FFFFFF;\n",
              "      --disabled-bg-color: #3B4455;\n",
              "      --disabled-fill-color: #666;\n",
              "  }\n",
              "\n",
              "  .colab-df-quickchart {\n",
              "    background-color: var(--bg-color);\n",
              "    border: none;\n",
              "    border-radius: 50%;\n",
              "    cursor: pointer;\n",
              "    display: none;\n",
              "    fill: var(--fill-color);\n",
              "    height: 32px;\n",
              "    padding: 0;\n",
              "    width: 32px;\n",
              "  }\n",
              "\n",
              "  .colab-df-quickchart:hover {\n",
              "    background-color: var(--hover-bg-color);\n",
              "    box-shadow: 0 1px 2px rgba(60, 64, 67, 0.3), 0 1px 3px 1px rgba(60, 64, 67, 0.15);\n",
              "    fill: var(--button-hover-fill-color);\n",
              "  }\n",
              "\n",
              "  .colab-df-quickchart-complete:disabled,\n",
              "  .colab-df-quickchart-complete:disabled:hover {\n",
              "    background-color: var(--disabled-bg-color);\n",
              "    fill: var(--disabled-fill-color);\n",
              "    box-shadow: none;\n",
              "  }\n",
              "\n",
              "  .colab-df-spinner {\n",
              "    border: 2px solid var(--fill-color);\n",
              "    border-color: transparent;\n",
              "    border-bottom-color: var(--fill-color);\n",
              "    animation:\n",
              "      spin 1s steps(1) infinite;\n",
              "  }\n",
              "\n",
              "  @keyframes spin {\n",
              "    0% {\n",
              "      border-color: transparent;\n",
              "      border-bottom-color: var(--fill-color);\n",
              "      border-left-color: var(--fill-color);\n",
              "    }\n",
              "    20% {\n",
              "      border-color: transparent;\n",
              "      border-left-color: var(--fill-color);\n",
              "      border-top-color: var(--fill-color);\n",
              "    }\n",
              "    30% {\n",
              "      border-color: transparent;\n",
              "      border-left-color: var(--fill-color);\n",
              "      border-top-color: var(--fill-color);\n",
              "      border-right-color: var(--fill-color);\n",
              "    }\n",
              "    40% {\n",
              "      border-color: transparent;\n",
              "      border-right-color: var(--fill-color);\n",
              "      border-top-color: var(--fill-color);\n",
              "    }\n",
              "    60% {\n",
              "      border-color: transparent;\n",
              "      border-right-color: var(--fill-color);\n",
              "    }\n",
              "    80% {\n",
              "      border-color: transparent;\n",
              "      border-right-color: var(--fill-color);\n",
              "      border-bottom-color: var(--fill-color);\n",
              "    }\n",
              "    90% {\n",
              "      border-color: transparent;\n",
              "      border-bottom-color: var(--fill-color);\n",
              "    }\n",
              "  }\n",
              "</style>\n",
              "\n",
              "  <script>\n",
              "    async function quickchart(key) {\n",
              "      const quickchartButtonEl =\n",
              "        document.querySelector('#' + key + ' button');\n",
              "      quickchartButtonEl.disabled = true;  // To prevent multiple clicks.\n",
              "      quickchartButtonEl.classList.add('colab-df-spinner');\n",
              "      try {\n",
              "        const charts = await google.colab.kernel.invokeFunction(\n",
              "            'suggestCharts', [key], {});\n",
              "      } catch (error) {\n",
              "        console.error('Error during call to suggestCharts:', error);\n",
              "      }\n",
              "      quickchartButtonEl.classList.remove('colab-df-spinner');\n",
              "      quickchartButtonEl.classList.add('colab-df-quickchart-complete');\n",
              "    }\n",
              "    (() => {\n",
              "      let quickchartButtonEl =\n",
              "        document.querySelector('#df-2bc3973f-7329-47b0-b47e-1a1d01aa3f10 button');\n",
              "      quickchartButtonEl.style.display =\n",
              "        google.colab.kernel.accessAllowed ? 'block' : 'none';\n",
              "    })();\n",
              "  </script>\n",
              "</div>\n",
              "\n",
              "    </div>\n",
              "  </div>\n"
            ],
            "text/plain": [
              "                             name       lat        lng  \\\n",
              "0                Arugam Bay Beach  6.840408  81.836848   \n",
              "1                   Mirissa Beach  5.944703  80.459161   \n",
              "2  Weligama Beach (surf and stay)  5.972486  80.435714   \n",
              "3                        Ahangama  5.973975  80.362159   \n",
              "4                 Hikkaduwa Beach  6.137727  80.099060   \n",
              "\n",
              "             formatted_address  rating  user_ratings_total  \\\n",
              "0  Arugam Bay Beach, Sri Lanka     4.8              1591.0   \n",
              "1           Mirissa, Sri Lanka     4.6              1748.0   \n",
              "2          Weligama, Sri Lanka     4.4               325.0   \n",
              "3          Ahangama, Sri Lanka     NaN                 NaN   \n",
              "4   Hikkaduwa Beach, Sri Lanka     4.7              1438.0   \n",
              "\n",
              "                                      latest_reviews  \n",
              "0  ['Arugam Bay Beach is a surfer's paradise! I s...  \n",
              "1  ['Mirissa Beach is truly a gem on Sri LankaÃ¢Â...  \n",
              "2  ['Weligama Beach is a fantastic spot for both ...  \n",
              "3  ['Ahangama was a bit disappointing for me as a...  \n",
              "4  ['Hikkaduwa Beach is a delightful escape for s...  "
            ]
          },
          "execution_count": 82,
          "metadata": {},
          "output_type": "execute_result"
        }
      ],
      "source": [
        "df = pd.read_excel('/content/Places Dataset.xlsx')\n",
        "df.head()"
      ]
    },
    {
      "cell_type": "code",
      "execution_count": 83,
      "metadata": {
        "colab": {
          "base_uri": "https://localhost:8080/"
        },
        "id": "5xVujV571HaK",
        "outputId": "331362a3-8372-468a-af16-717e3dd86440"
      },
      "outputs": [
        {
          "data": {
            "text/plain": [
              "(411, 7)"
            ]
          },
          "execution_count": 83,
          "metadata": {},
          "output_type": "execute_result"
        }
      ],
      "source": [
        "df.shape"
      ]
    },
    {
      "cell_type": "code",
      "execution_count": 84,
      "metadata": {
        "colab": {
          "base_uri": "https://localhost:8080/"
        },
        "id": "g4gyq-t8BAP6",
        "outputId": "25d3b6b7-ca05-4dbf-86bd-67331665faf7"
      },
      "outputs": [
        {
          "name": "stdout",
          "output_type": "stream",
          "text": [
            "<class 'pandas.core.frame.DataFrame'>\n",
            "RangeIndex: 411 entries, 0 to 410\n",
            "Data columns (total 7 columns):\n",
            " #   Column              Non-Null Count  Dtype  \n",
            "---  ------              --------------  -----  \n",
            " 0   name                411 non-null    object \n",
            " 1   lat                 410 non-null    float64\n",
            " 2   lng                 410 non-null    float64\n",
            " 3   formatted_address   411 non-null    object \n",
            " 4   rating              355 non-null    float64\n",
            " 5   user_ratings_total  355 non-null    float64\n",
            " 6   latest_reviews      411 non-null    object \n",
            "dtypes: float64(4), object(3)\n",
            "memory usage: 22.6+ KB\n"
          ]
        }
      ],
      "source": [
        "df.info()"
      ]
    },
    {
      "cell_type": "code",
      "execution_count": 85,
      "metadata": {
        "id": "9VmI9qEjNBa3"
      },
      "outputs": [],
      "source": [
        "import ast\n",
        "import re\n",
        "\n",
        "latest_reviews_array = []\n",
        "classified_reviews_array = []\n",
        "all_classified_reviews = []\n",
        "\n",
        "def extract_list_item(string):\n",
        "    string = string.replace(\"Ã¢Â€Â™\", \"'\")\n",
        "    string = string.replace(\"\\\\'\", \"'\")\n",
        "    string = re.sub(r'[^\\x00-\\x7F]+', '', string)\n",
        "\n",
        "    try:\n",
        "        match = re.search(r'\\[(.*)\\]', string)\n",
        "        if match:\n",
        "            reviews = match.group(1).split(\"', '\")\n",
        "            sub_array = []\n",
        "            for item in reviews:\n",
        "                cleaned_item = item.strip(\" '\")\n",
        "                sub_array.append(make_prediction(cleaned_item))\n",
        "                all_classified_reviews.append(make_prediction(cleaned_item))\n",
        "                latest_reviews_array.append(cleaned_item)\n",
        "            classified_reviews_array.append(sub_array)\n",
        "        else:\n",
        "            sub_array = [-1]\n",
        "            classified_reviews_array.append(sub_array)\n",
        "\n",
        "    except Exception as e:\n",
        "        print(f\"Error processing the string: {e}\")"
      ]
    },
    {
      "cell_type": "code",
      "execution_count": null,
      "metadata": {
        "colab": {
          "base_uri": "https://localhost:8080/",
          "height": 1000
        },
        "collapsed": true,
        "id": "Bg-wGXcDUgw-",
        "outputId": "1e379a83-fde0-4a09-d046-ec5ddc6c8461"
      },
      "outputs": [],
      "source": [
        "df[\"latest_reviews\"].apply(extract_list_item)"
      ]
    },
    {
      "cell_type": "code",
      "execution_count": 93,
      "metadata": {
        "colab": {
          "base_uri": "https://localhost:8080/",
          "height": 574
        },
        "id": "i1P-GbFyGhL0",
        "outputId": "6d9f7153-d0bb-420b-e89b-5283597c10db"
      },
      "outputs": [
        {
          "data": {
            "image/png": "[encoded data removed]",
            "text/plain": [
              "<Figure size 800x600 with 1 Axes>"
            ]
          },
          "metadata": {},
          "output_type": "display_data"
        }
      ],
      "source": [
        "import seaborn as sns\n",
        "import matplotlib.pyplot as plt\n",
        "from collections import Counter\n",
        "import pandas as pd\n",
        "\n",
        "data = all_classified_reviews\n",
        "counts = Counter(data)\n",
        "\n",
        "df = pd.DataFrame({\n",
        "    'Class': ['Corrupt (-1)', 'Negative (0)', 'Positive (1)'],\n",
        "    'Count': [counts[-1], counts[0], counts[1]]\n",
        "})\n",
        "\n",
        "sns.set(style=\"whitegrid\")\n",
        "plt.figure(figsize=(8, 6))\n",
        "sns.barplot(x='Class', y='Count', data=df, hue='Class', palette=['red', 'orange', 'green'], dodge=False, legend=False)\n",
        "\n",
        "plt.xlabel('Class', fontsize=12)\n",
        "plt.ylabel('Count', fontsize=12)\n",
        "plt.title('Count of Corrupt, Negative, and Positive Texts', fontsize=14)\n",
        "\n",
        "plt.show()\n"
      ]
    }
  ],
  "metadata": {
    "accelerator": "GPU",
    "colab": {
      "gpuType": "T4",
      "provenance": []
    },
    "kernelspec": {
      "display_name": "Python 3",
      "name": "python3"
    },
    "language_info": {
      "name": "python"
    }
  },
  "nbformat": 4,
  "nbformat_minor": 0
}
