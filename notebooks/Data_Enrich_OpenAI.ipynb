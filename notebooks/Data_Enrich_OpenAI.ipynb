{
 "cells": [
  {
   "cell_type": "code",
   "execution_count": 1,
   "metadata": {},
   "outputs": [],
   "source": [
    "import re\n",
    "import json\n",
    "import os\n",
    "from langchain.chat_models import ChatOpenAI\n",
    "from langchain.chains import LLMChain\n",
    "from langchain.prompts import PromptTemplate\n",
    "import numpy as np\n",
    "import pandas as pd \n",
    "from pydantic import BaseModel\n",
    "from openai import OpenAI\n",
    "from typing import List"
   ]
  },
  {
   "cell_type": "code",
   "execution_count": 2,
   "metadata": {},
   "outputs": [],
   "source": [
    "df = pd.read_excel('../Data/Places Dataset.xlsx')"
   ]
  },
  {
   "cell_type": "code",
   "execution_count": 5,
   "metadata": {},
   "outputs": [],
   "source": [
    "client = OpenAI()\n",
    "\n",
    "class Activity(BaseModel):\n",
    "    name: str\n",
    "\n",
    "class Place(BaseModel):\n",
    "    activities: List[Activity]\n",
    "    Geographical: str\n",
    "    Historical: str\n",
    "    Religious: str\n",
    "    Natural: str\n",
    "    Entertainment: str\n",
    "    Accommodation: str\n",
    "    Shopping: str\n",
    "    Food: str\n"
   ]
  },
  {
   "cell_type": "code",
   "execution_count": 6,
   "metadata": {},
   "outputs": [],
   "source": [
    "completion = client.beta.chat.completions.parse(\n",
    "    model=\"gpt-4o-mini-2024-07-18\",\n",
    "    messages=[\n",
    "        {\"role\": \"system\", \"content\": \"You are are experieced in Sri Lankan tourism. you should able to give knowledge about the places in Sri Lanka\"},\n",
    "        {\"role\": \"user\", \"content\": \"Kandy\"}\n",
    "    ],\n",
    "    response_format=Place\n",
    "  )"
   ]
  },
  {
   "cell_type": "code",
   "execution_count": 12,
   "metadata": {},
   "outputs": [
    {
     "name": "stdout",
     "output_type": "stream",
     "text": [
      "Cultural Dance Performance\n",
      "Temple of the Tooth Relic Tour\n",
      "Botanical Gardens Visit\n",
      "City Tour\n",
      "Shopping at Local Markets\n"
     ]
    }
   ],
   "source": [
    "activities = completion.choices[0].message.parsed.activities\n",
    "\n",
    "# To print the activity names\n",
    "for activity in activities:\n",
    "    print(activity.name)"
   ]
  },
  {
   "cell_type": "code",
   "execution_count": 28,
   "metadata": {},
   "outputs": [],
   "source": [
    "def get_info(location):\n",
    "    completion = client.beta.chat.completions.parse(\n",
    "        model=\"gpt-4o-mini-2024-07-18\",\n",
    "        messages=[\n",
    "            {\"role\": \"system\", \"content\": \"You are experienced in Sri Lankan tourism. You should be able to give knowledge about the places in Sri Lanka without promoting hotels or restaurants.\"},\n",
    "            {\"role\": \"user\", \"content\": f\"{location}\"}\n",
    "        ],\n",
    "        response_format=Place\n",
    "    )\n",
    "    \n",
    "    return completion.choices[0].message.parsed\n"
   ]
  },
  {
   "cell_type": "code",
   "execution_count": 32,
   "metadata": {},
   "outputs": [],
   "source": [
    "def get_acts(place_info):\n",
    "    activities = [activity.name for activity in place_info.activities]\n",
    "    return activities\n",
    "\n",
    "\n",
    "def get_geo(place_info):\n",
    "    geo = place_info.Geographical\n",
    "    return geo\n",
    "\n",
    "\n",
    "def get_hsitoric(place_info):\n",
    "    history = place_info.Historical\n",
    "    return history\n",
    "\n",
    "\n",
    "def get_religious(place_info):\n",
    "    religion = place_info.Religious\n",
    "    return religion\n",
    "\n",
    "    \n",
    "def get_natural(place_info):\n",
    "    nature = place_info.Natural\n",
    "    return nature\n",
    "\n",
    "\n",
    "def get_entertainment(place_info):\n",
    "    entertainment = place_info.Entertainment\n",
    "    return entertainment\n",
    "\n",
    "\n",
    "def get_accommodation(place_info):\n",
    "    accommodation = place_info.Accommodation\n",
    "    return accommodation\n",
    "\n",
    "\n",
    "def get_shopping(place_info):\n",
    "    shopping = place_info.Shopping\n",
    "    return shopping\n",
    "\n",
    "\n",
    "def get_food(place_info):\n",
    "    food = place_info.Food\n",
    "    return food"
   ]
  },
  {
   "cell_type": "code",
   "execution_count": 30,
   "metadata": {},
   "outputs": [],
   "source": [
    "df[\"place_info\"] = df[\"name\"].apply(get_info)"
   ]
  },
  {
   "cell_type": "code",
   "execution_count": 33,
   "metadata": {},
   "outputs": [],
   "source": [
    "df[\"activities\"] = df[\"place_info\"].apply(get_acts)\n",
    "df[\"Geographical\"] = df[\"place_info\"].apply(get_geo)\n",
    "df[\"Historical\"] = df[\"place_info\"].apply(get_hsitoric)\n",
    "df[\"Religious\"] = df[\"place_info\"].apply(get_religious)\n",
    "df[\"Natural\"] = df[\"place_info\"].apply(get_natural)\n",
    "df[\"Entertainment\"] = df[\"place_info\"].apply(get_entertainment)\n",
    "df[\"Accommodation\"] = df[\"place_info\"].apply(get_accommodation)\n",
    "df[\"Shopping\"] = df[\"place_info\"].apply(get_shopping)\n",
    "df[\"Food\"] = df[\"place_info\"].apply(get_food)"
   ]
  },
  {
   "cell_type": "code",
   "execution_count": 34,
   "metadata": {},
   "outputs": [],
   "source": [
    "# exoport the data to a csv file\n",
    "\n",
    "df.to_csv(\"../Data/Places Dataset Enriched Classified Reviews Filled.csv\", index=False)\n"
   ]
  },
  {
   "cell_type": "code",
   "execution_count": 36,
   "metadata": {},
   "outputs": [],
   "source": [
    "df.drop(columns=[\"place_info\"], inplace=True)"
   ]
  },
  {
   "cell_type": "code",
   "execution_count": 38,
   "metadata": {},
   "outputs": [],
   "source": [
    "df.to_csv(\"../Data/Places Dataset Enriched.csv\", index=False)"
   ]
  }
 ],
 "metadata": {
  "kernelspec": {
   "display_name": "td",
   "language": "python",
   "name": "python3"
  },
  "language_info": {
   "codemirror_mode": {
    "name": "ipython",
    "version": 3
   },
   "file_extension": ".py",
   "mimetype": "text/x-python",
   "name": "python",
   "nbconvert_exporter": "python",
   "pygments_lexer": "ipython3",
   "version": "3.11.5"
  }
 },
 "nbformat": 4,
 "nbformat_minor": 2
}
