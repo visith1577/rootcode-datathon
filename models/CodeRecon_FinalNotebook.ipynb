{
 "cells": [
  {
   "cell_type": "code",
   "execution_count": 1,
   "metadata": {},
   "outputs": [],
   "source": [
    "import numpy as np\n",
    "import pandas as pd\n",
    "import matplotlib.pyplot as plt\n",
    "import seaborn as sns\n",
    "from sklearn.preprocessing import StandardScaler\n",
    "import random"
   ]
  },
  {
   "cell_type": "markdown",
   "metadata": {},
   "source": [
    "### **Load Data**"
   ]
  },
  {
   "cell_type": "code",
   "execution_count": 3,
   "metadata": {},
   "outputs": [],
   "source": [
    "user_df = pd.read_excel('../data/Visitors Preference Dataset .xlsx')\n",
    "places_df = pd.read_csv('../data/Places Dataset Classified Reviews Cleaned Combined.csv')"
   ]
  },
  {
   "cell_type": "code",
   "execution_count": 4,
   "metadata": {},
   "outputs": [],
   "source": [
    "from unidecode import unidecode\n",
    "\n",
    "def clean_non_ascii(df):\n",
    "    for col in df.select_dtypes(include=['object']).columns:\n",
    "        df[col] = df[col].apply(lambda x: unidecode(str(x)))\n",
    "    return df\n",
    "\n",
    "user_df = clean_non_ascii(user_df)\n",
    "places_df = clean_non_ascii(places_df)"
   ]
  },
  {
   "cell_type": "markdown",
   "metadata": {},
   "source": [
    "### **Select a Random User**"
   ]
  },
  {
   "cell_type": "code",
   "execution_count": 5,
   "metadata": {},
   "outputs": [
    {
     "data": {
      "text/html": [
       "<div>\n",
       "<style scoped>\n",
       "    .dataframe tbody tr th:only-of-type {\n",
       "        vertical-align: middle;\n",
       "    }\n",
       "\n",
       "    .dataframe tbody tr th {\n",
       "        vertical-align: top;\n",
       "    }\n",
       "\n",
       "    .dataframe thead th {\n",
       "        text-align: right;\n",
       "    }\n",
       "</style>\n",
       "<table border=\"1\" class=\"dataframe\">\n",
       "  <thead>\n",
       "    <tr style=\"text-align: right;\">\n",
       "      <th></th>\n",
       "      <th>User ID</th>\n",
       "      <th>Name</th>\n",
       "      <th>Email</th>\n",
       "      <th>Preferred Activities</th>\n",
       "      <th>Bucket list destinations Sri Lanka</th>\n",
       "    </tr>\n",
       "  </thead>\n",
       "  <tbody>\n",
       "    <tr>\n",
       "      <th>19</th>\n",
       "      <td>20</td>\n",
       "      <td>Elizabeth Peterson</td>\n",
       "      <td>elizabeth.peterson@example.com</td>\n",
       "      <td>['wildlife viewing', 'camping', 'surfing']</td>\n",
       "      <td>['Tangalle', 'Udawalawe National Park', 'Miris...</td>\n",
       "    </tr>\n",
       "  </tbody>\n",
       "</table>\n",
       "</div>"
      ],
      "text/plain": [
       "    User ID                Name                           Email  \\\n",
       "19       20  Elizabeth Peterson  elizabeth.peterson@example.com   \n",
       "\n",
       "                          Preferred Activities  \\\n",
       "19  ['wildlife viewing', 'camping', 'surfing']   \n",
       "\n",
       "                   Bucket list destinations Sri Lanka  \n",
       "19  ['Tangalle', 'Udawalawe National Park', 'Miris...  "
      ]
     },
     "execution_count": 5,
     "metadata": {},
     "output_type": "execute_result"
    }
   ],
   "source": [
    "user_id = 20\n",
    "\n",
    "user_1 = user_df[user_df['User ID'] == user_id]\n",
    "user_1"
   ]
  },
  {
   "cell_type": "code",
   "execution_count": 6,
   "metadata": {},
   "outputs": [
    {
     "data": {
      "text/plain": [
       "\"['wildlife viewing', 'camping', 'surfing']\""
      ]
     },
     "execution_count": 6,
     "metadata": {},
     "output_type": "execute_result"
    }
   ],
   "source": [
    "preferred_activities = user_1[\"Preferred Activities\"]\n",
    "preferred_activities = preferred_activities.values[0]\n",
    "preferred_activities"
   ]
  },
  {
   "cell_type": "code",
   "execution_count": 7,
   "metadata": {},
   "outputs": [
    {
     "name": "stdout",
     "output_type": "stream",
     "text": [
      "['wildlife viewing', 'camping', 'surfing']\n"
     ]
    }
   ],
   "source": [
    "import ast\n",
    "\n",
    "def convert_string_to_list(input_string):\n",
    "    return ast.literal_eval(input_string)\n",
    "\n",
    "print(preferred_activities)"
   ]
  },
  {
   "cell_type": "code",
   "execution_count": 8,
   "metadata": {},
   "outputs": [
    {
     "data": {
      "text/plain": [
       "['Tangalle',\n",
       " 'Udawalawe National Park',\n",
       " 'Mirissa Beach',\n",
       " 'Weligama Beach (surf and stay)',\n",
       " 'Yala National Park']"
      ]
     },
     "execution_count": 8,
     "metadata": {},
     "output_type": "execute_result"
    }
   ],
   "source": [
    "prefered_destinations = user_1[\"Bucket list destinations Sri Lanka\"]\n",
    "prefered_destinations = prefered_destinations.values[0]\n",
    "prefered_destinations_array = convert_string_to_list(prefered_destinations)\n",
    "prefered_destinations_array"
   ]
  },
  {
   "cell_type": "code",
   "execution_count": 9,
   "metadata": {},
   "outputs": [
    {
     "data": {
      "text/plain": [
       "['wildlife viewing', 'camping', 'surfing']"
      ]
     },
     "execution_count": 9,
     "metadata": {},
     "output_type": "execute_result"
    }
   ],
   "source": [
    "prefered_activity_array = convert_string_to_list(preferred_activities)\n",
    "prefered_activity_array"
   ]
  },
  {
   "cell_type": "code",
   "execution_count": 10,
   "metadata": {},
   "outputs": [
    {
     "name": "stdout",
     "output_type": "stream",
     "text": [
      "Tangalle\n",
      "Udawalawe National Park\n",
      "Mirissa Beach\n",
      "Weligama Beach (surf and stay)\n",
      "Yala National Park\n"
     ]
    }
   ],
   "source": [
    "for destination in prefered_destinations_array:\n",
    "    print(destination)"
   ]
  },
  {
   "cell_type": "code",
   "execution_count": 11,
   "metadata": {},
   "outputs": [],
   "source": [
    "import pandas as pd\n",
    "\n",
    "def find_places_based_on_user_preferences(prefered_destinations_array) -> pd.DataFrame:\n",
    "    pattern = '|'.join(prefered_destinations_array)\n",
    "    \n",
    "    filtered_df = places_df[\n",
    "        places_df['name'].str.contains(pattern, regex=True, na=False)\n",
    "    ]\n",
    "    \n",
    "    return filtered_df\n"
   ]
  },
  {
   "cell_type": "code",
   "execution_count": 12,
   "metadata": {},
   "outputs": [
    {
     "name": "stderr",
     "output_type": "stream",
     "text": [
      "/var/folders/l0/kmcf3t2n6zbdwxr6qy7v3_980000gn/T/ipykernel_75579/3886916259.py:7: UserWarning: This pattern is interpreted as a regular expression, and has match groups. To actually get the groups, use str.extract.\n",
      "  places_df['name'].str.contains(pattern, regex=True, na=False)\n"
     ]
    },
    {
     "data": {
      "text/html": [
       "<div>\n",
       "<style scoped>\n",
       "    .dataframe tbody tr th:only-of-type {\n",
       "        vertical-align: middle;\n",
       "    }\n",
       "\n",
       "    .dataframe tbody tr th {\n",
       "        vertical-align: top;\n",
       "    }\n",
       "\n",
       "    .dataframe thead th {\n",
       "        text-align: right;\n",
       "    }\n",
       "</style>\n",
       "<table border=\"1\" class=\"dataframe\">\n",
       "  <thead>\n",
       "    <tr style=\"text-align: right;\">\n",
       "      <th></th>\n",
       "      <th>name</th>\n",
       "      <th>lat</th>\n",
       "      <th>lng</th>\n",
       "      <th>formatted_address</th>\n",
       "      <th>rating</th>\n",
       "      <th>user_ratings_total</th>\n",
       "      <th>latest_reviews</th>\n",
       "      <th>location_info</th>\n",
       "      <th>activities</th>\n",
       "      <th>Geographical</th>\n",
       "      <th>Historical</th>\n",
       "      <th>Religious</th>\n",
       "      <th>Natural</th>\n",
       "      <th>Entertainment</th>\n",
       "      <th>Accommodation</th>\n",
       "      <th>Shopping</th>\n",
       "      <th>Food</th>\n",
       "      <th>classified_reviews</th>\n",
       "      <th>negetive_rate</th>\n",
       "      <th>combined_info</th>\n",
       "    </tr>\n",
       "  </thead>\n",
       "  <tbody>\n",
       "    <tr>\n",
       "      <th>1</th>\n",
       "      <td>Mirissa Beach</td>\n",
       "      <td>5.944703</td>\n",
       "      <td>80.459161</td>\n",
       "      <td>Mirissa, Sri Lanka</td>\n",
       "      <td>4.600000</td>\n",
       "      <td>1748.0</td>\n",
       "      <td>['Mirissa Beach is truly a gem on Sri LankaAC/...</td>\n",
       "      <td>Mirissa Beach, located on Sri Lanka's southern...</td>\n",
       "      <td>['Whale watching', 'Snorkeling and diving', 'S...</td>\n",
       "      <td>Mirissa Beach is located on the southern coast...</td>\n",
       "      <td>Mirissa has a rich maritime history and has be...</td>\n",
       "      <td>The area is close to the significant Buddhist ...</td>\n",
       "      <td>The beach is known for its stunning natural be...</td>\n",
       "      <td>Mirissa is a popular spot for nightlife activi...</td>\n",
       "      <td>Various types of accommodations are available ...</td>\n",
       "      <td>Local markets and shops offer handicrafts, bea...</td>\n",
       "      <td>Mirissa offers a variety of seafood options an...</td>\n",
       "      <td>[1, 1, 1, 1, 1]</td>\n",
       "      <td>0.0</td>\n",
       "      <td>mirissa beach located sri lankas southern coas...</td>\n",
       "    </tr>\n",
       "    <tr>\n",
       "      <th>5</th>\n",
       "      <td>Tangalle</td>\n",
       "      <td>6.024338</td>\n",
       "      <td>80.794073</td>\n",
       "      <td>Tangalle, Sri Lanka</td>\n",
       "      <td>4.459437</td>\n",
       "      <td>582.5</td>\n",
       "      <td>['Tangalle was a bit of a letdown for me. The ...</td>\n",
       "      <td>Tangalle, located on Sri Lanka's southern coas...</td>\n",
       "      <td>['Beach Relaxation', 'Snorkeling and Diving', ...</td>\n",
       "      <td>Tangalle is located on the southern coast of S...</td>\n",
       "      <td>Tangalle has a rich history with influences fr...</td>\n",
       "      <td>The area features several temples, including t...</td>\n",
       "      <td>Famous for its beautiful sandy beaches, Tangal...</td>\n",
       "      <td>Tangalle offers tranquil beach experiences and...</td>\n",
       "      <td>While specifically not promoting accommodation...</td>\n",
       "      <td>Visitors can find local markets selling handic...</td>\n",
       "      <td>The local cuisine features fresh seafood and t...</td>\n",
       "      <td>[1, 1, 1, 1, 1]</td>\n",
       "      <td>0.0</td>\n",
       "      <td>tangalle located sri lankas southern coast boa...</td>\n",
       "    </tr>\n",
       "    <tr>\n",
       "      <th>11</th>\n",
       "      <td>Yala National Park</td>\n",
       "      <td>6.463961</td>\n",
       "      <td>81.471885</td>\n",
       "      <td>Sri Lanka</td>\n",
       "      <td>4.100000</td>\n",
       "      <td>2810.0</td>\n",
       "      <td>['Yala National Park is a true gem for wildlif...</td>\n",
       "      <td>Yala National Park, located in southeastern Sr...</td>\n",
       "      <td>['Wildlife Safaris', 'Bird Watching', 'Photogr...</td>\n",
       "      <td>Yala National Park is located in the southeast...</td>\n",
       "      <td>Yala has a rich heritage, with ancient Buddhis...</td>\n",
       "      <td>There are ancient temples and monasteries near...</td>\n",
       "      <td>Yala National Park is renowned for its diverse...</td>\n",
       "      <td>Visitors can engage in thrilling wildlife view...</td>\n",
       "      <td>While this section would detail places to stay...</td>\n",
       "      <td>Local crafts and wildlife-themed souvenirs can...</td>\n",
       "      <td>Yala is surrounded by local villages where tra...</td>\n",
       "      <td>[1, 1, 1, 1, 1, 1]</td>\n",
       "      <td>0.0</td>\n",
       "      <td>yala national park located southeastern sri la...</td>\n",
       "    </tr>\n",
       "    <tr>\n",
       "      <th>12</th>\n",
       "      <td>Udawalawe National Park</td>\n",
       "      <td>6.474629</td>\n",
       "      <td>80.876319</td>\n",
       "      <td>Sri Lanka</td>\n",
       "      <td>4.300000</td>\n",
       "      <td>6156.0</td>\n",
       "      <td>['Udawalawe National Park was absolutely breat...</td>\n",
       "      <td>Udawalawe National Park, located in Sri Lanka,...</td>\n",
       "      <td>['Safari Tours', 'Bird Watching', 'Elephant Tr...</td>\n",
       "      <td>Udawalawe National Park is located in the sout...</td>\n",
       "      <td>The park was established in 1972 primarily to ...</td>\n",
       "      <td>While there are no specific religious sites wi...</td>\n",
       "      <td>Udawalawe is renowned for its diverse flora an...</td>\n",
       "      <td>Visitors can enjoy wildlife safaris that allow...</td>\n",
       "      <td>Nearby accommodations typically cater to visit...</td>\n",
       "      <td>The nearby town offers local handicrafts and s...</td>\n",
       "      <td>Local cuisine offers a variety of traditional ...</td>\n",
       "      <td>[1, 1, 1, 1, 1]</td>\n",
       "      <td>0.0</td>\n",
       "      <td>udawalawe national park located sri lanka reno...</td>\n",
       "    </tr>\n",
       "    <tr>\n",
       "      <th>32</th>\n",
       "      <td>Tangalle Beach</td>\n",
       "      <td>6.022726</td>\n",
       "      <td>80.800836</td>\n",
       "      <td>Tangalle, Sri Lanka</td>\n",
       "      <td>4.200000</td>\n",
       "      <td>511.0</td>\n",
       "      <td>['Tangalle Beach is a hidden gem! The soft san...</td>\n",
       "      <td>Tangalle Beach, located on the southern coast ...</td>\n",
       "      <td>['Snorkeling', 'Surfing', 'Beach Volleyball', ...</td>\n",
       "      <td>Tangalle Beach is located on the southern coas...</td>\n",
       "      <td>Tangalle has a history linked to early Portugu...</td>\n",
       "      <td>Near Tangalle are several significant religiou...</td>\n",
       "      <td>The beach is known for its natural beauty, fea...</td>\n",
       "      <td>Tangalle Beach offers various outdoor activiti...</td>\n",
       "      <td>The area features various guesthouses and holi...</td>\n",
       "      <td>Tangalle has local markets offering handicraft...</td>\n",
       "      <td>The area is famous for its seafood, particular...</td>\n",
       "      <td>[1, 1, 1, 1, 1]</td>\n",
       "      <td>0.0</td>\n",
       "      <td>tangalle beach located southern coast sri lank...</td>\n",
       "    </tr>\n",
       "  </tbody>\n",
       "</table>\n",
       "</div>"
      ],
      "text/plain": [
       "                       name       lat        lng    formatted_address  \\\n",
       "1             Mirissa Beach  5.944703  80.459161   Mirissa, Sri Lanka   \n",
       "5                  Tangalle  6.024338  80.794073  Tangalle, Sri Lanka   \n",
       "11       Yala National Park  6.463961  81.471885            Sri Lanka   \n",
       "12  Udawalawe National Park  6.474629  80.876319            Sri Lanka   \n",
       "32           Tangalle Beach  6.022726  80.800836  Tangalle, Sri Lanka   \n",
       "\n",
       "      rating  user_ratings_total  \\\n",
       "1   4.600000              1748.0   \n",
       "5   4.459437               582.5   \n",
       "11  4.100000              2810.0   \n",
       "12  4.300000              6156.0   \n",
       "32  4.200000               511.0   \n",
       "\n",
       "                                       latest_reviews  \\\n",
       "1   ['Mirissa Beach is truly a gem on Sri LankaAC/...   \n",
       "5   ['Tangalle was a bit of a letdown for me. The ...   \n",
       "11  ['Yala National Park is a true gem for wildlif...   \n",
       "12  ['Udawalawe National Park was absolutely breat...   \n",
       "32  ['Tangalle Beach is a hidden gem! The soft san...   \n",
       "\n",
       "                                        location_info  \\\n",
       "1   Mirissa Beach, located on Sri Lanka's southern...   \n",
       "5   Tangalle, located on Sri Lanka's southern coas...   \n",
       "11  Yala National Park, located in southeastern Sr...   \n",
       "12  Udawalawe National Park, located in Sri Lanka,...   \n",
       "32  Tangalle Beach, located on the southern coast ...   \n",
       "\n",
       "                                           activities  \\\n",
       "1   ['Whale watching', 'Snorkeling and diving', 'S...   \n",
       "5   ['Beach Relaxation', 'Snorkeling and Diving', ...   \n",
       "11  ['Wildlife Safaris', 'Bird Watching', 'Photogr...   \n",
       "12  ['Safari Tours', 'Bird Watching', 'Elephant Tr...   \n",
       "32  ['Snorkeling', 'Surfing', 'Beach Volleyball', ...   \n",
       "\n",
       "                                         Geographical  \\\n",
       "1   Mirissa Beach is located on the southern coast...   \n",
       "5   Tangalle is located on the southern coast of S...   \n",
       "11  Yala National Park is located in the southeast...   \n",
       "12  Udawalawe National Park is located in the sout...   \n",
       "32  Tangalle Beach is located on the southern coas...   \n",
       "\n",
       "                                           Historical  \\\n",
       "1   Mirissa has a rich maritime history and has be...   \n",
       "5   Tangalle has a rich history with influences fr...   \n",
       "11  Yala has a rich heritage, with ancient Buddhis...   \n",
       "12  The park was established in 1972 primarily to ...   \n",
       "32  Tangalle has a history linked to early Portugu...   \n",
       "\n",
       "                                            Religious  \\\n",
       "1   The area is close to the significant Buddhist ...   \n",
       "5   The area features several temples, including t...   \n",
       "11  There are ancient temples and monasteries near...   \n",
       "12  While there are no specific religious sites wi...   \n",
       "32  Near Tangalle are several significant religiou...   \n",
       "\n",
       "                                              Natural  \\\n",
       "1   The beach is known for its stunning natural be...   \n",
       "5   Famous for its beautiful sandy beaches, Tangal...   \n",
       "11  Yala National Park is renowned for its diverse...   \n",
       "12  Udawalawe is renowned for its diverse flora an...   \n",
       "32  The beach is known for its natural beauty, fea...   \n",
       "\n",
       "                                        Entertainment  \\\n",
       "1   Mirissa is a popular spot for nightlife activi...   \n",
       "5   Tangalle offers tranquil beach experiences and...   \n",
       "11  Visitors can engage in thrilling wildlife view...   \n",
       "12  Visitors can enjoy wildlife safaris that allow...   \n",
       "32  Tangalle Beach offers various outdoor activiti...   \n",
       "\n",
       "                                        Accommodation  \\\n",
       "1   Various types of accommodations are available ...   \n",
       "5   While specifically not promoting accommodation...   \n",
       "11  While this section would detail places to stay...   \n",
       "12  Nearby accommodations typically cater to visit...   \n",
       "32  The area features various guesthouses and holi...   \n",
       "\n",
       "                                             Shopping  \\\n",
       "1   Local markets and shops offer handicrafts, bea...   \n",
       "5   Visitors can find local markets selling handic...   \n",
       "11  Local crafts and wildlife-themed souvenirs can...   \n",
       "12  The nearby town offers local handicrafts and s...   \n",
       "32  Tangalle has local markets offering handicraft...   \n",
       "\n",
       "                                                 Food  classified_reviews  \\\n",
       "1   Mirissa offers a variety of seafood options an...     [1, 1, 1, 1, 1]   \n",
       "5   The local cuisine features fresh seafood and t...     [1, 1, 1, 1, 1]   \n",
       "11  Yala is surrounded by local villages where tra...  [1, 1, 1, 1, 1, 1]   \n",
       "12  Local cuisine offers a variety of traditional ...     [1, 1, 1, 1, 1]   \n",
       "32  The area is famous for its seafood, particular...     [1, 1, 1, 1, 1]   \n",
       "\n",
       "    negetive_rate                                      combined_info  \n",
       "1             0.0  mirissa beach located sri lankas southern coas...  \n",
       "5             0.0  tangalle located sri lankas southern coast boa...  \n",
       "11            0.0  yala national park located southeastern sri la...  \n",
       "12            0.0  udawalawe national park located sri lanka reno...  \n",
       "32            0.0  tangalle beach located southern coast sri lank...  "
      ]
     },
     "execution_count": 12,
     "metadata": {},
     "output_type": "execute_result"
    }
   ],
   "source": [
    "input_places = find_places_based_on_user_preferences(prefered_destinations_array)\n",
    "input_places"
   ]
  },
  {
   "cell_type": "markdown",
   "metadata": {},
   "source": [
    "### **Model Building and Trainig**"
   ]
  },
  {
   "cell_type": "code",
   "execution_count": 13,
   "metadata": {},
   "outputs": [],
   "source": [
    "from sklearn.feature_extraction.text import TfidfVectorizer\n",
    "from sklearn.metrics.pairwise import cosine_similarity\n",
    "import pickle"
   ]
  },
  {
   "cell_type": "code",
   "execution_count": 14,
   "metadata": {},
   "outputs": [],
   "source": [
    "tfidf = TfidfVectorizer(stop_words='english')\n",
    "tfidf_matrix = tfidf.fit_transform(places_df['combined_info'])"
   ]
  },
  {
   "cell_type": "code",
   "execution_count": 15,
   "metadata": {},
   "outputs": [],
   "source": [
    "import pickle\n",
    "\n",
    "# Save the TF-IDF vectorizer\n",
    "with open('tfidf_vectorizer.pkl', 'wb') as file:\n",
    "    pickle.dump(tfidf, file)\n",
    "\n",
    "# Save the TF-IDF matrix\n",
    "with open('tfidf_matrix.pkl', 'wb') as file:\n",
    "    pickle.dump(tfidf_matrix, file)"
   ]
  },
  {
   "cell_type": "code",
   "execution_count": 16,
   "metadata": {},
   "outputs": [],
   "source": [
    "import pandas as pd\n",
    "import numpy as np\n",
    "from sklearn.feature_extraction.text import TfidfVectorizer\n",
    "from sklearn.metrics.pairwise import cosine_similarity\n",
    "\n",
    "def get_most_similar_records(input_description, input_activities, tfidf_matrix)-> pd.DataFrame:\n",
    "    input_activities_str = ' '.join(input_activities)\n",
    "    input_description = input_description\n",
    "    \n",
    "    input_tfidf = tfidf.transform([input_description])\n",
    "    cosine_similarities = cosine_similarity(input_tfidf, tfidf_matrix).flatten()\n",
    "    \n",
    "    related_docs_indices = cosine_similarities.argsort()[:-10:-1]\n",
    "    return_dict = places_df.iloc[related_docs_indices]\n",
    "    return_dict['Cosine Similarity'] = cosine_similarities[related_docs_indices]\n",
    "\n",
    "    return return_dict\n",
    "    "
   ]
  },
  {
   "cell_type": "code",
   "execution_count": 17,
   "metadata": {},
   "outputs": [
    {
     "data": {
      "text/plain": [
       "['mirissa beach located sri lankas southern coast stunning destination known golden sands clear turquoise waters tourists enjoy activities like whale watching snorkeling surfing well relaxing beach exploring nearby coconut groves vibrant nightlife features beachside bars restaurants serving fresh seafood visitors also take boat trips see breathtaking coastline visit charming town mirissa local crafts culture natural beauty diverse activities mirissa beach perfect getaway beach lovers adventure seekers alike mirissa beach located southern coast sri lanka matara district mirissa rich maritime history part trade routes cultural interactions since ancient times evidence sea trade archaeological findings area close significant buddhist temples weherahena temple visited many pilgrims offer insight sri lankan buddhist practices beach known stunning natural beauty stretching along coastline golden sands clear turquoise waters surrounding area includes lush greenery palm trees mirissa popular spot nightlife activities beach parties music events especially tourist season creating vibrant atmosphere sunset various types accommodations available travelers ranging guesthouses beach bungalows local markets shops offer handicrafts beachwear souvenirs giving visitors chance shop unique items enjoying beach vibe mirissa offers variety seafood options local dishes particularly centered around fresh fish traditional sri lankan cuisine enjoyed overlooking ocean',\n",
       " \"tangalle located sri lankas southern coast boasts stunning beaches laidback atmosphere visitors relax golden sands swim clear waters explore nearby rock pools region offers opportunities snorkeling diving vibrant coral reefs nature lovers visit nearby kalametiya bird sanctuary mulkirigala rock monastery blend culture stunning views taste local life tourists explore bustling markets enjoy fresh seafood beachside restaurants tangalle perfect tranquil beach getaway nature exploration tangalle located southern coast sri lanka within hambantota district known picturesque beaches coastline tangalle rich history influences various eras including colonial times ancient trade evidenced archaeological sites old colonial buildings area features several temples including mulkirigala rock monastery historic site offering insight buddhist heritage region famous beautiful sandy beaches tangalle also boasts natural reserves stunning coastal scenery opportunities observe marine life mangroves tangalle offers tranquil beach experiences water sports making ideal location looking unwind engage aquatic activities specifically promoting accommodations tangalle range lodging options suitable various travelers needs budget luxury visitors find local markets selling handicrafts textiles souvenirs representing area's culture craftsmanship local cuisine features fresh seafood traditional sri lankan dishes enjoyed surrounding markets food stalls\",\n",
       " \"yala national park located southeastern sri lanka renowned diverse wildlife stunning landscapes tourists embark thrilling jeep safaris spot leopards elephants variety bird species park features beautiful beaches ancient ruins making perfect nature lovers history enthusiasts alike birdwatching photography guided nature walks popular activities parks serene environment offers opportunities relaxation exploration yalas unique ecosystems rich biodiversity make mustvisit destination adventure seekers wildlife enthusiasts yala national park located southeastern region sri lanka extending dry wet zones islands landscapes mix scrublands wetlands coastal areas yala rich heritage ancient buddhist ruins scattered within territory hinting historical significance region ancient temples monasteries near park reflecting spiritual practices buddhism sri lanka yala national park renowned diverse ecosystems including grasslands scrub forests lagoons coastlines home variety wildlife including leopards elephants array bird species visitors engage thrilling wildlife viewing experiences opportunities observe animals natural habitats parks dramatic landscapes also provide backdrop adventurous activities section would detail places stay yala national park encourages range ecofriendly experiences within boundaries local crafts wildlifethemed souvenirs sometimes found nearby markets artisan shops allowing visitors take home piece sri lankan wildlife culture yala surrounded local villages traditional sri lankan cuisine experienced highlighting island's rich culinary heritage\",\n",
       " 'udawalawe national park located sri lanka renowned diverse wildlife particularly large population asian elephants visitors embark thrilling safari jeep tours spot elephants leopards various bird species park features stunning landscapes including grasslands reservoirs ideal nature photography additionally tourists explore udawalawe elephant transit home orphaned elephants rehabilitated parks serene environment offers opportunities birdwatching enjoying picturesque sunsets making mustvisit destination nature lovers wildlife enthusiasts udawalawe national park located southern part sri lanka bordering uda walawe reservoir spans approximately 30821 hectares characterized dry semideciduous forests grasslands scrubland park established 1972 primarily provide habitat wild animals displaced construction uda walawe reservoir rich history tied wildlife conservation efforts sri lanka specific religious sites within udawalawe national park surrounding areas rich buddhist heritage several ancient temples located nearby udawalawe renowned diverse flora fauna especially large population asian elephants park also home various species birds deer reptiles unique landscape offers ecological grasslands rivers visitors enjoy wildlife safaris allow close encounters elephants wildlife well guided ecowalks provide insights local ecosystem nearby accommodations typically cater visitors looking explore national park surroundings nearby town offers local handicrafts souvenirs reflect culture region elephantthemed artwork local textiles local cuisine offers variety traditional sri lankan dishes often featuring rice curry well fruits fresh produce common area',\n",
       " 'tangalle beach located southern coast sri lanka renowned stunning golden sands crystalclear waters tourists enjoy sunbathing swimming snorkeling vibrant coral reefs beach also ideal leisurely walks along shore exploring nearby lagoons visiting local fishing villages adventurous visitors partake whale watching nature enthusiasts explore nearby rekawa turtle conservation project relaxed atmosphere beautiful sunsets tangalle beach offers perfect escape relaxation exploration tangalle beach located southern coast sri lanka part southern province known stunning shoreline lush greenery surrounding tangalle history linked early portuguese dutch traders visible architecture fortlike structures vicinity indicating importance trade hub near tangalle several significant religious sites including mulkirigala rock monastery known ancient buddhist caves stunning views top beach known natural beauty featuring golden sands clear waters area also home various flora fauna including sea turtles come nest beaches tangalle beach offers various outdoor activities nightlife along coast beach parties local music performances especially tourist season area features various guesthouses holiday homestays offering variety options accommodation visitors often seek stay close beach easy access tangalle local markets offering handicrafts souvenirs fresh produce visitors explore shops selling handmade items traditional sri lankan goods area famous seafood particularly fresh fish offers range traditional sri lankan dishes beachside eateries often serve delicious local cuisine']"
      ]
     },
     "execution_count": 17,
     "metadata": {},
     "output_type": "execute_result"
    }
   ],
   "source": [
    "combined_infos = []\n",
    "\n",
    "for index, row in input_places.iterrows():\n",
    "    combined_infos.append(row['combined_info'])\n",
    "    \n",
    "combined_infos"
   ]
  },
  {
   "cell_type": "code",
   "execution_count": 18,
   "metadata": {},
   "outputs": [],
   "source": [
    "input_activities = prefered_activity_array"
   ]
  },
  {
   "cell_type": "markdown",
   "metadata": {},
   "source": [
    "### **Get Similar Results**"
   ]
  },
  {
   "cell_type": "code",
   "execution_count": 19,
   "metadata": {},
   "outputs": [
    {
     "name": "stdout",
     "output_type": "stream",
     "text": [
      "(30, 21)\n"
     ]
    },
    {
     "name": "stderr",
     "output_type": "stream",
     "text": [
      "/var/folders/l0/kmcf3t2n6zbdwxr6qy7v3_980000gn/T/ipykernel_75579/1218007167.py:15: SettingWithCopyWarning: \n",
      "A value is trying to be set on a copy of a slice from a DataFrame.\n",
      "Try using .loc[row_indexer,col_indexer] = value instead\n",
      "\n",
      "See the caveats in the documentation: https://pandas.pydata.org/pandas-docs/stable/user_guide/indexing.html#returning-a-view-versus-a-copy\n",
      "  return_dict['Cosine Similarity'] = cosine_similarities[related_docs_indices]\n",
      "/var/folders/l0/kmcf3t2n6zbdwxr6qy7v3_980000gn/T/ipykernel_75579/1218007167.py:15: SettingWithCopyWarning: \n",
      "A value is trying to be set on a copy of a slice from a DataFrame.\n",
      "Try using .loc[row_indexer,col_indexer] = value instead\n",
      "\n",
      "See the caveats in the documentation: https://pandas.pydata.org/pandas-docs/stable/user_guide/indexing.html#returning-a-view-versus-a-copy\n",
      "  return_dict['Cosine Similarity'] = cosine_similarities[related_docs_indices]\n",
      "/var/folders/l0/kmcf3t2n6zbdwxr6qy7v3_980000gn/T/ipykernel_75579/1218007167.py:15: SettingWithCopyWarning: \n",
      "A value is trying to be set on a copy of a slice from a DataFrame.\n",
      "Try using .loc[row_indexer,col_indexer] = value instead\n",
      "\n",
      "See the caveats in the documentation: https://pandas.pydata.org/pandas-docs/stable/user_guide/indexing.html#returning-a-view-versus-a-copy\n",
      "  return_dict['Cosine Similarity'] = cosine_similarities[related_docs_indices]\n",
      "/var/folders/l0/kmcf3t2n6zbdwxr6qy7v3_980000gn/T/ipykernel_75579/1218007167.py:15: SettingWithCopyWarning: \n",
      "A value is trying to be set on a copy of a slice from a DataFrame.\n",
      "Try using .loc[row_indexer,col_indexer] = value instead\n",
      "\n",
      "See the caveats in the documentation: https://pandas.pydata.org/pandas-docs/stable/user_guide/indexing.html#returning-a-view-versus-a-copy\n",
      "  return_dict['Cosine Similarity'] = cosine_similarities[related_docs_indices]\n",
      "/var/folders/l0/kmcf3t2n6zbdwxr6qy7v3_980000gn/T/ipykernel_75579/1218007167.py:15: SettingWithCopyWarning: \n",
      "A value is trying to be set on a copy of a slice from a DataFrame.\n",
      "Try using .loc[row_indexer,col_indexer] = value instead\n",
      "\n",
      "See the caveats in the documentation: https://pandas.pydata.org/pandas-docs/stable/user_guide/indexing.html#returning-a-view-versus-a-copy\n",
      "  return_dict['Cosine Similarity'] = cosine_similarities[related_docs_indices]\n"
     ]
    },
    {
     "data": {
      "text/plain": [
       "(30, 21)"
      ]
     },
     "execution_count": 19,
     "metadata": {},
     "output_type": "execute_result"
    }
   ],
   "source": [
    "similar_records = pd.DataFrame()\n",
    "\n",
    "for combined_info in combined_infos:\n",
    "    new_records = get_most_similar_records(combined_info, input_activities, tfidf_matrix)\n",
    "    \n",
    "    if not similar_records.empty:\n",
    "        new_records = new_records.loc[~new_records.index.isin(similar_records.index)]\n",
    "\n",
    "    similar_records = pd.concat([similar_records, new_records], ignore_index=False)\n",
    "\n",
    "print(similar_records.shape)\n",
    "\n",
    "\n",
    "similar_records.shape\n"
   ]
  },
  {
   "cell_type": "markdown",
   "metadata": {},
   "source": [
    "### **Post Processing**"
   ]
  },
  {
   "cell_type": "code",
   "execution_count": 20,
   "metadata": {},
   "outputs": [],
   "source": [
    "def check_negetive_rate(places_df):\n",
    "    places = []\n",
    "    for index, row in places_df.iterrows():\n",
    "        if row['negetive_rate'] <= 0.2:\n",
    "            places.append(row)\n",
    "    return pd.DataFrame(places)"
   ]
  },
  {
   "cell_type": "code",
   "execution_count": 21,
   "metadata": {},
   "outputs": [],
   "source": [
    "def sort_by_confidence_then_rating(df_places):\n",
    "    df_places_sorted = df_places.sort_values(by=['Cosine Similarity', 'rating'], ascending=False)\n",
    "    return df_places_sorted"
   ]
  },
  {
   "cell_type": "code",
   "execution_count": 22,
   "metadata": {},
   "outputs": [],
   "source": [
    "def except_recommendations_already_in_input(df_places_sorted, prefered_destinations_array):\n",
    "    df_places_sorted = df_places_sorted[~df_places_sorted['name'].isin(prefered_destinations_array)]\n",
    "    return df_places_sorted\n",
    "\n",
    "\n",
    "similar_records = except_recommendations_already_in_input(similar_records, prefered_destinations_array)"
   ]
  },
  {
   "cell_type": "code",
   "execution_count": 23,
   "metadata": {},
   "outputs": [],
   "source": [
    "similar_records = check_negetive_rate(similar_records)"
   ]
  },
  {
   "cell_type": "code",
   "execution_count": 24,
   "metadata": {},
   "outputs": [],
   "source": [
    "similar_records = sort_by_confidence_then_rating(similar_records)\n",
    "similar_records = similar_records[~similar_records['name'].isin(prefered_destinations_array)].head(5)"
   ]
  },
  {
   "cell_type": "code",
   "execution_count": 25,
   "metadata": {},
   "outputs": [
    {
     "data": {
      "text/plain": [
       "[\"udawalawe located sri lanka renowned stunning national park home diverse array wildlife including elephants leopards various bird species tourists enjoy jeep safaris explore park's natural beauty observe animals habitat udawalawe reservoir offers opportunities birdwatching photography additionally visitors learn elephant conservation udawalawe elephant transit home orphaned elephants rehabilitated serene landscape rich biodiversity make udawalawe mustvisit destination nature lovers adventure seekers udawalawe located southern part sri lanka primarily known udawalawe national park spans 30821 hectares features mix grasslands shrub jungles considered one important national parks sri lanka udawalawe established 1972 provide sanctuary elephants protect catchment area udawalawe reservoir several small temples shrines situated around area reflecting local culture religious practices including buddhist temples attract visitors region renowned rich biodiversity particularly large population asian elephants park also home various deer species crocodiles wide range birds making great spot nature enthusiasts main entertainment udawalawe revolves around wildlife observation photography opportunities witness elephants diverse flora fauna natural habitats various accommodation options near udawalawe important plan stay enable easy access national park attractions nearby towns offer local handicrafts souvenirs including items made traditional materials small souvenirs related wildlife local cuisine explored nearby areas traditional sri lankan dishes often featuring rice curry fresh vegetables tropical fruits\",\n",
       " 'mirissa located sri lankas southern coast picturesque beach destination known stunning sunsets vibrant marine life tourists enjoy activities whale watching snorkeling surfing crystalclear waters golden sandy beaches perfect relaxation local restaurants offer delicious seafood adventure seekers explore nearby mirissa fisheries harbor take boat tour scenic coastline laidback atmosphere beautiful surroundings mirissa ideal spot relaxation adventure mirissa located southern coast sri lanka matara district mirissa rich history tied maritime trade known ancient port facilitated trade various cultures nearby several buddhist temples reflecting local religious culture including mirissa buddhist temple mirissa famous stunning beaches lush palm trees vibrant marine life particularly whale migration seasons visitors enjoy nighttime beach parties cultural events celebrated region throughout year various accommodation options available ranging guesthouses ecofriendly resorts local shops sell handicrafts souvenirs beachwear appealing tourists looking unique items fresh seafood tropical fruits staple foods area many locals presenting traditional sri lankan dishes',\n",
       " \"yala green safari located sri lankas yala national park offers stunning blend lush landscapes diverse wildlife tourists embark thrilling jeep safaris spot leopards elephants various bird species parks unique ecosystems including coastal lagoons dense forests provide excellent opportunities photography nature walks visitors also enjoy guided tours led knowledgeable naturalists enhancing understanding regions flora fauna breathtaking scenery rich biodiversity yala green safari mustvisit nature enthusiasts adventure seekers alike yala national park located southeastern region sri lanka bordered indian ocean south diverse ecosystems including grasslands forests wetlands yala historical remnants ancient civilizations including ruins ancient temples monasteries explored around park's perimeter nearby buddhist hindu temples pay tribute spiritual heritage area including sites rituals ceremonies performed local devotees yala national park renowned stunning landscapes rich biodiversity home variety flora fauna including sri lankas iconic leopards elephants numerous bird species expect thrilling experiences guided safaris offering night day options providing various opportunities witness wildlife behavior beauty landscape specific accommodations arent promoted visitors find options near park entrance nearby towns unique experiences nature local markets nearby towns offer handcrafted items souvenirs showcase sri lankan culture providing authentic shopping experience region features array traditional sri lankan cuisine local food stalls markets often providing delicious authentic dishes related culture\",\n",
       " 'mirissa located sri lankas southern coast renowned stunning beaches vibrant marine life visitors embark unforgettable whale watching tours mirissa whale explorers may spot blue whales sperm whales dolphins beyond whale watching tourists enjoy snorkeling surfing relaxing golden sands nearby mirissa fisheries harbor offers fresh seafood local shops cafes provide taste sri lankan culture mirissas scenic beauty diverse activities make perfect destination nature enthusiasts adventure seekers mirissa located southern coast sri lanka known beaches gateway marine excursions mirissa rich maritime history historically known fishing coastal trade reflecting development southern coast sri lanka local region known temples including kothduwa temple situated nearby adds religious facet area mirissa renowned stunning beaches lush coconut palms clear blue waters proximity continental shelf makes ideal location whale watching particularly blue whales humpback whales besides whale watching area offers opportunities boat rides water sports beach activities contributing entertainment aspects various guesthouses lodges available offering different levels comfort local markets souvenir shops available offering handmade crafts regional items visitors explore local goods reflect culture local cuisine includes fresh seafood specialties tropical fruits traditional sri lankan dishes',\n",
       " 'marakolliya located sri lankas southern coast near tangalle serene beach destination known stunning sunsets tranquil atmosphere tourists enjoy activities swimming sunbathing beachcombing along golden sands area offers opportunities snorkeling diving nearby coral reefs well exploring lush surrounding landscapes visitors also indulge local cuisine beachside restaurants experience traditional fishing practices marakolliya perfect relaxation immersing natural beauty sri lankas coastline marakolliya located southern coast sri lanka near town tangalle boasts beautiful stretches sandy beach along indian ocean marakolliya primarily known natural beauty nearby tangalle features historical sites ancient temples heritage fishing communities area home several religious sites including local buddhist temples reflect cultural heritage sri lanka marakolliya known stunning natural beauty featuring pristine beaches mangroves rich marine life including coral reefs diverse bird species visitors enjoy local cultural performances festivals celebrate sri lankan traditions especially centered around fishing culture wont promote accommodations various types lodging options ranging guesthouses boutique properties vicinity local markets tangalle nearby towns offer artisanal crafts traditional clothing fresh produce allowing visitors engage local culture visitors enjoy variety local dishes including seafood caught fresh ocean well traditional sri lankan cuisine influenced coastal flavors']"
      ]
     },
     "execution_count": 25,
     "metadata": {},
     "output_type": "execute_result"
    }
   ],
   "source": [
    "similar_records_infos = []\n",
    "\n",
    "for index, row in similar_records.iterrows():\n",
    "    similar_records_infos.append(row['combined_info'])\n",
    "\n",
    "similar_records_infos\n",
    "    "
   ]
  },
  {
   "cell_type": "markdown",
   "metadata": {},
   "source": [
    "### **Model Evaluation**\n",
    "\n",
    "#### **Relevance**"
   ]
  },
  {
   "cell_type": "code",
   "execution_count": 26,
   "metadata": {},
   "outputs": [
    {
     "name": "stdout",
     "output_type": "stream",
     "text": [
      "Cosine similarity: 0.79\n"
     ]
    }
   ],
   "source": [
    "similar_records_infos = ''.join(similar_records_infos)\n",
    "combined_infos = ''.join(combined_infos)\n",
    "\n",
    "def cosine_similarity_score(str1, str2):\n",
    "    if not str1 or not str2:\n",
    "        return 0.0\n",
    "    vectorizer = TfidfVectorizer()\n",
    "    vectors = vectorizer.fit_transform([str1, str2])\n",
    "    return cosine_similarity(vectors[0], vectors[1])[0][0]\n",
    "\n",
    "similarity = cosine_similarity_score(similar_records_infos, combined_infos)\n",
    "print(f\"Cosine similarity: {similarity:.2f}\")"
   ]
  },
  {
   "cell_type": "markdown",
   "metadata": {},
   "source": [
    "#### **Diversity**"
   ]
  },
  {
   "cell_type": "code",
   "execution_count": 27,
   "metadata": {},
   "outputs": [
    {
     "name": "stdout",
     "output_type": "stream",
     "text": [
      "Geospatial Diversity (Average Distance): 54.36 km\n"
     ]
    }
   ],
   "source": [
    "from geopy.distance import great_circle\n",
    "\n",
    "coordinates_of_similar_places = similar_records[['lat', 'lng']]\n",
    "coordinates_of_input_places = input_places[['lat', 'lng']]\n",
    "\n",
    "all_coordinates = pd.concat([coordinates_of_similar_places, coordinates_of_input_places], ignore_index=True)\n",
    "\n",
    "def geospatial_diversity(locations):\n",
    "    if len(locations) < 2:\n",
    "        return 0.0\n",
    "    \n",
    "    distances = []\n",
    "    for i in range(len(locations)):\n",
    "        for j in range(i + 1, len(locations)):\n",
    "            distance = great_circle(locations[i], locations[j]).kilometers\n",
    "            distances.append(distance)\n",
    "    \n",
    "    return np.mean(distances) if distances else 0.0\n",
    "\n",
    "\n",
    "all_coordinates_list = all_coordinates.values.tolist()\n",
    "diversity = geospatial_diversity(all_coordinates_list)\n",
    "print(f\"Geospatial Diversity (Average Distance): {diversity:.2f} km\")"
   ]
  },
  {
   "cell_type": "markdown",
   "metadata": {},
   "source": [
    "### **Top 5 Recommendations**"
   ]
  },
  {
   "cell_type": "code",
   "execution_count": 28,
   "metadata": {},
   "outputs": [
    {
     "data": {
      "text/plain": [
       "133                  Udawalawa\n",
       "46                     Mirissa\n",
       "198          Yala Green Safari\n",
       "185    Mirissa whale Explorers\n",
       "37                 Marakolliya\n",
       "Name: name, dtype: object"
      ]
     },
     "execution_count": 28,
     "metadata": {},
     "output_type": "execute_result"
    }
   ],
   "source": [
    "similar_records[\"name\"]"
   ]
  },
  {
   "cell_type": "code",
   "execution_count": null,
   "metadata": {},
   "outputs": [],
   "source": []
  }
 ],
 "metadata": {
  "kernelspec": {
   "display_name": "td",
   "language": "python",
   "name": "python3"
  },
  "language_info": {
   "codemirror_mode": {
    "name": "ipython",
    "version": 3
   },
   "file_extension": ".py",
   "mimetype": "text/x-python",
   "name": "python",
   "nbconvert_exporter": "python",
   "pygments_lexer": "ipython3",
   "version": "3.11.5"
  }
 },
 "nbformat": 4,
 "nbformat_minor": 2
}
