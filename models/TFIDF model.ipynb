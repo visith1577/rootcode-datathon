{
 "cells": [
  {
   "cell_type": "code",
   "execution_count": 1,
   "metadata": {},
   "outputs": [],
   "source": [
    "import numpy as np\n",
    "import pandas as pd\n",
    "import matplotlib.pyplot as plt\n",
    "import seaborn as sns\n",
    "from sklearn.preprocessing import StandardScaler"
   ]
  },
  {
   "cell_type": "code",
   "execution_count": 2,
   "metadata": {},
   "outputs": [],
   "source": [
    "user_df = pd.read_excel('../../data/Visitors Preference Dataset .xlsx')\n",
    "places_df = pd.read_csv('../../data/Places Dataset Classified Reviews Cleaned Combined .csv')"
   ]
  },
  {
   "cell_type": "code",
   "execution_count": 5,
   "metadata": {},
   "outputs": [
    {
     "data": {
      "text/html": [
       "<div>\n",
       "<style scoped>\n",
       "    .dataframe tbody tr th:only-of-type {\n",
       "        vertical-align: middle;\n",
       "    }\n",
       "\n",
       "    .dataframe tbody tr th {\n",
       "        vertical-align: top;\n",
       "    }\n",
       "\n",
       "    .dataframe thead th {\n",
       "        text-align: right;\n",
       "    }\n",
       "</style>\n",
       "<table border=\"1\" class=\"dataframe\">\n",
       "  <thead>\n",
       "    <tr style=\"text-align: right;\">\n",
       "      <th></th>\n",
       "      <th>User ID</th>\n",
       "      <th>Name</th>\n",
       "      <th>Email</th>\n",
       "      <th>Preferred Activities</th>\n",
       "      <th>Bucket list destinations Sri Lanka</th>\n",
       "    </tr>\n",
       "  </thead>\n",
       "  <tbody>\n",
       "    <tr>\n",
       "      <th>0</th>\n",
       "      <td>1</td>\n",
       "      <td>Jennifer Quinn</td>\n",
       "      <td>jennifer.quinn@example.com</td>\n",
       "      <td>['cycling', 'historical monuments', 'village h...</td>\n",
       "      <td>['Polonnaruwa', 'Hatton', 'Anuradhapura', 'Ell...</td>\n",
       "    </tr>\n",
       "  </tbody>\n",
       "</table>\n",
       "</div>"
      ],
      "text/plain": [
       "   User ID            Name                       Email  \\\n",
       "0        1  Jennifer Quinn  jennifer.quinn@example.com   \n",
       "\n",
       "                                Preferred Activities  \\\n",
       "0  ['cycling', 'historical monuments', 'village h...   \n",
       "\n",
       "                  Bucket list destinations Sri Lanka  \n",
       "0  ['Polonnaruwa', 'Hatton', 'Anuradhapura', 'Ell...  "
      ]
     },
     "execution_count": 5,
     "metadata": {},
     "output_type": "execute_result"
    }
   ],
   "source": [
    "user_1 = user_df[user_df['User ID'] == 1]\n",
    "user_1"
   ]
  },
  {
   "cell_type": "code",
   "execution_count": 6,
   "metadata": {},
   "outputs": [
    {
     "data": {
      "text/plain": [
       "\"['cycling', 'historical monuments', 'village homestays']\""
      ]
     },
     "execution_count": 6,
     "metadata": {},
     "output_type": "execute_result"
    }
   ],
   "source": [
    "preferred_activities = user_1[\"Preferred Activities\"]\n",
    "preferred_activities[0]"
   ]
  },
  {
   "cell_type": "code",
   "execution_count": 7,
   "metadata": {},
   "outputs": [
    {
     "data": {
      "text/plain": [
       "['cycling', 'historical monuments', 'village homestays']"
      ]
     },
     "execution_count": 7,
     "metadata": {},
     "output_type": "execute_result"
    }
   ],
   "source": [
    "import ast\n",
    "\n",
    "def convert_string_to_list(input_string):\n",
    "    return ast.literal_eval(input_string)\n",
    "\n",
    "preferred_activities_array = convert_string_to_list(preferred_activities[0])\n",
    "preferred_activities_array"
   ]
  },
  {
   "cell_type": "code",
   "execution_count": 8,
   "metadata": {},
   "outputs": [
    {
     "data": {
      "text/plain": [
       "['Polonnaruwa', 'Hatton', 'Anuradhapura', 'Ella', 'Haputale']"
      ]
     },
     "execution_count": 8,
     "metadata": {},
     "output_type": "execute_result"
    }
   ],
   "source": [
    "prefered_destinations = user_1[\"Bucket list destinations Sri Lanka\"]\n",
    "prefered_destinations_array = convert_string_to_list(prefered_destinations[0])\n",
    "prefered_destinations_array"
   ]
  },
  {
   "cell_type": "code",
   "execution_count": 9,
   "metadata": {},
   "outputs": [
    {
     "name": "stdout",
     "output_type": "stream",
     "text": [
      "Polonnaruwa\n",
      "Hatton\n",
      "Anuradhapura\n",
      "Ella\n",
      "Haputale\n"
     ]
    }
   ],
   "source": [
    "for destination in prefered_destinations_array:\n",
    "    print(destination)"
   ]
  },
  {
   "cell_type": "code",
   "execution_count": 10,
   "metadata": {},
   "outputs": [],
   "source": [
    "import pandas as pd\n",
    "\n",
    "def find_places_based_on_user_preferences(prefered_destinations_array) -> pd.DataFrame:\n",
    "    pattern = '|'.join(prefered_destinations_array)\n",
    "    \n",
    "    filtered_df = places_df[\n",
    "        places_df['name'].str.contains(pattern, regex=True, na=False) &\n",
    "        places_df['formatted_address'].str.contains(pattern, regex=True, na=False)\n",
    "    ]\n",
    "    \n",
    "    return filtered_df\n"
   ]
  },
  {
   "cell_type": "code",
   "execution_count": 11,
   "metadata": {},
   "outputs": [],
   "source": [
    "input_places = find_places_based_on_user_preferences(prefered_destinations_array)"
   ]
  },
  {
   "cell_type": "code",
   "execution_count": 12,
   "metadata": {},
   "outputs": [
    {
     "data": {
      "text/plain": [
       "['cycling', 'historical monuments', 'village homestays']"
      ]
     },
     "execution_count": 12,
     "metadata": {},
     "output_type": "execute_result"
    }
   ],
   "source": [
    "input_activities = preferred_activities_array\n",
    "input_activities"
   ]
  },
  {
   "cell_type": "code",
   "execution_count": 13,
   "metadata": {},
   "outputs": [],
   "source": [
    "from sklearn.feature_extraction.text import TfidfVectorizer\n",
    "from sklearn.metrics.pairwise import cosine_similarity\n",
    "import pickle"
   ]
  },
  {
   "cell_type": "code",
   "execution_count": 14,
   "metadata": {},
   "outputs": [],
   "source": [
    "tfidf = TfidfVectorizer(stop_words='english')\n",
    "tfidf_matrix = tfidf.fit_transform(places_df['combined_info'])"
   ]
  },
  {
   "cell_type": "code",
   "execution_count": 15,
   "metadata": {},
   "outputs": [],
   "source": [
    "import pandas as pd\n",
    "import numpy as np\n",
    "from sklearn.feature_extraction.text import TfidfVectorizer\n",
    "from sklearn.metrics.pairwise import cosine_similarity\n",
    "\n",
    "def get_most_similar_records(input_description, input_activities, tfidf_matrix)-> pd.DataFrame:\n",
    "    input_activities_str = ' '.join(input_activities)\n",
    "    input_description = input_description\n",
    "    \n",
    "    input_tfidf = tfidf.transform([input_description])\n",
    "    cosine_similarities = cosine_similarity(input_tfidf, tfidf_matrix).flatten()\n",
    "    \n",
    "    related_docs_indices = cosine_similarities.argsort()[:-10:-1]\n",
    "    return_dict = places_df.iloc[related_docs_indices]\n",
    "    return_dict['Cosine Similarity'] = cosine_similarities[related_docs_indices]\n",
    "\n",
    "    return return_dict\n",
    "    "
   ]
  },
  {
   "cell_type": "code",
   "execution_count": 16,
   "metadata": {},
   "outputs": [
    {
     "data": {
      "text/plain": [
       "['located north central province characterized flat terrain agricultural landscapes former royal capital notable wellpreserved ancient structures relics medieval period home significant buddhist temples stupas showcasing historical religious architecture surrounded lush greenery parakrama samudra reservoir offers scenic beauty biodiversity often features cultural performances reenactments related historical significance variety lodgings available budget midrange options local crafts traditional handicrafts souvenirs available local culinary offerings include traditional sri lankan rice curry dishes',\n",
       " 'ancient city located north central province characterized flat plains significant water reservoirs one ancient capitals sri lanka known wellpreserved ruins role development buddhism region home numerous stupas temples including significant pilgrimage sites buddhists surrounded green landscapes including sacred bodhi trees network lakes reservoirs cultural festivals local events celebrating heritage traditions variety options guesthouses ecolodges catering different preferences local markets offer handicrafts textiles traditional items diverse cuisine featuring local specialties often based rice curry',\n",
       " 'situated central highlands steep terrain scenic views rich colonial history ancient pathways used local inhabitants close proximity local temples shrines reflecting traditional beliefs offers stunning landscapes diverse flora fauna panoramic views opportunities ecotours guided nature walks variety lodges guesthouses available nearby stays local markets souvenir shops nearby area availability local cuisine nearby cafes eateries',\n",
       " 'located central highlands known cool climate stunning views mountain ranges valleys rich colonial history remnants british colonial architecture tea estates home several buddhist temples reflecting spiritual heritage area surrounded lush green hills diverse flora fauna waterfalls offers local cultural performances festivals variety lodging options guesthouses boutique hotels opportunities purchase local handicrafts tea products culinary offerings include local dishes teabased beverages',\n",
       " 'located northeastern part country characterized flat terrain lakes ancient capital home wellpreserved ruins kingdom polonnaruwa including palaces temples significant buddhist sites including temples relics statues surrounded picturesque landscapes including parks lakes wetlands rich biodiversity cultural festivals events celebrating heritage variety options guesthouses midrange hotels local handicrafts textiles souvenirs available nearby markets diverse local cuisine featuring rice curry traditional sweetmeats',\n",
       " 'located ancient city known archaeological significance wellpreserved ruins served significant religious site past representing historical significance buddhism region houses relics related buddha attracting pilgrims visitors interested buddhist traditions surrounded remnants ancient architecture greenery enhancing sites serene atmosphere engagement guided tours educational programs related history architecture various accommodation options available nearby visitors looking explore historical landscape local handicrafts souvenirs found markets near historical site traditional food options available nearby areas showcasing local cuisine',\n",
       " 'located northcentral region country characterized mix urban development ancient relics home ancient sri lankan kings numerous significant archaeological sites history spanning 2000 years contains significant buddhist temples stupas important pilgrimage worship surrounded lush greenery rice fields ancient ponds providing natural habitat diverse flora fauna various cultural performances local events showcasing traditional music dance options range guesthouses hotels catering various budgets preferences local markets offering traditional crafts textiles fresh produce local cuisine featuring traditional sri lankan dishes focus rice curry tropical fruits',\n",
       " 'located within unesco world heritage site characterized ancient ruins lush vegetation one ancient stupas significant early buddhist community reflecting architectural brilliance time vital pilgrimage site showcasing buddhist heritage history surrounded tranquil landscapes flora typical regions dry zone educational tours focusing history archaeology various options available nearby towns catering different budgets souvenir shops focusing local crafts religious artifacts local cuisine available nearby eateries emphasizing traditional flavors',\n",
       " 'located northcentral part sri lanka surrounded ancient city landscapes prominent monastic complex reflecting grandeur early buddhist civilization significant site buddhist pilgrims housing ancient stupas shrines surrounded lush greenery integrated serene landscape cultural performances festivals related buddhist traditions various lodging options available nearby areas visitors local craft shops souvenir vendors vicinity traditional sri lankan cuisine available nearby eateries',\n",
       " 'situated historically rich region ancient architectural ruins natural landscapes former capital ancient kingdom showcasing significant historical relics structures hindu temple dedicated lord shiva featuring traditional rituals worship practices surrounded lush greenery water bodies contributing scenic beauty area cultural festivals religious ceremonies often take place offering immersive experiences variety lodging options available catering diverse preferences local artisans offer traditional crafts religious artifacts visitors cuisine influenced local ingredients featuring vegetarian offerings common hindu culture']"
      ]
     },
     "execution_count": 16,
     "metadata": {},
     "output_type": "execute_result"
    }
   ],
   "source": [
    "combined_infos = []\n",
    "\n",
    "for index, row in input_places.iterrows():\n",
    "    combined_infos.append(row['combined_info'])\n",
    "    \n",
    "combined_infos"
   ]
  },
  {
   "cell_type": "code",
   "execution_count": 17,
   "metadata": {},
   "outputs": [
    {
     "name": "stdout",
     "output_type": "stream",
     "text": [
      "(57, 20)\n"
     ]
    },
    {
     "name": "stderr",
     "output_type": "stream",
     "text": [
      "/var/folders/l0/kmcf3t2n6zbdwxr6qy7v3_980000gn/T/ipykernel_4123/1218007167.py:15: SettingWithCopyWarning: \n",
      "A value is trying to be set on a copy of a slice from a DataFrame.\n",
      "Try using .loc[row_indexer,col_indexer] = value instead\n",
      "\n",
      "See the caveats in the documentation: https://pandas.pydata.org/pandas-docs/stable/user_guide/indexing.html#returning-a-view-versus-a-copy\n",
      "  return_dict['Cosine Similarity'] = cosine_similarities[related_docs_indices]\n",
      "/var/folders/l0/kmcf3t2n6zbdwxr6qy7v3_980000gn/T/ipykernel_4123/1218007167.py:15: SettingWithCopyWarning: \n",
      "A value is trying to be set on a copy of a slice from a DataFrame.\n",
      "Try using .loc[row_indexer,col_indexer] = value instead\n",
      "\n",
      "See the caveats in the documentation: https://pandas.pydata.org/pandas-docs/stable/user_guide/indexing.html#returning-a-view-versus-a-copy\n",
      "  return_dict['Cosine Similarity'] = cosine_similarities[related_docs_indices]\n",
      "/var/folders/l0/kmcf3t2n6zbdwxr6qy7v3_980000gn/T/ipykernel_4123/1218007167.py:15: SettingWithCopyWarning: \n",
      "A value is trying to be set on a copy of a slice from a DataFrame.\n",
      "Try using .loc[row_indexer,col_indexer] = value instead\n",
      "\n",
      "See the caveats in the documentation: https://pandas.pydata.org/pandas-docs/stable/user_guide/indexing.html#returning-a-view-versus-a-copy\n",
      "  return_dict['Cosine Similarity'] = cosine_similarities[related_docs_indices]\n",
      "/var/folders/l0/kmcf3t2n6zbdwxr6qy7v3_980000gn/T/ipykernel_4123/1218007167.py:15: SettingWithCopyWarning: \n",
      "A value is trying to be set on a copy of a slice from a DataFrame.\n",
      "Try using .loc[row_indexer,col_indexer] = value instead\n",
      "\n",
      "See the caveats in the documentation: https://pandas.pydata.org/pandas-docs/stable/user_guide/indexing.html#returning-a-view-versus-a-copy\n",
      "  return_dict['Cosine Similarity'] = cosine_similarities[related_docs_indices]\n",
      "/var/folders/l0/kmcf3t2n6zbdwxr6qy7v3_980000gn/T/ipykernel_4123/1218007167.py:15: SettingWithCopyWarning: \n",
      "A value is trying to be set on a copy of a slice from a DataFrame.\n",
      "Try using .loc[row_indexer,col_indexer] = value instead\n",
      "\n",
      "See the caveats in the documentation: https://pandas.pydata.org/pandas-docs/stable/user_guide/indexing.html#returning-a-view-versus-a-copy\n",
      "  return_dict['Cosine Similarity'] = cosine_similarities[related_docs_indices]\n",
      "/var/folders/l0/kmcf3t2n6zbdwxr6qy7v3_980000gn/T/ipykernel_4123/1218007167.py:15: SettingWithCopyWarning: \n",
      "A value is trying to be set on a copy of a slice from a DataFrame.\n",
      "Try using .loc[row_indexer,col_indexer] = value instead\n",
      "\n",
      "See the caveats in the documentation: https://pandas.pydata.org/pandas-docs/stable/user_guide/indexing.html#returning-a-view-versus-a-copy\n",
      "  return_dict['Cosine Similarity'] = cosine_similarities[related_docs_indices]\n",
      "/var/folders/l0/kmcf3t2n6zbdwxr6qy7v3_980000gn/T/ipykernel_4123/1218007167.py:15: SettingWithCopyWarning: \n",
      "A value is trying to be set on a copy of a slice from a DataFrame.\n",
      "Try using .loc[row_indexer,col_indexer] = value instead\n",
      "\n",
      "See the caveats in the documentation: https://pandas.pydata.org/pandas-docs/stable/user_guide/indexing.html#returning-a-view-versus-a-copy\n",
      "  return_dict['Cosine Similarity'] = cosine_similarities[related_docs_indices]\n",
      "/var/folders/l0/kmcf3t2n6zbdwxr6qy7v3_980000gn/T/ipykernel_4123/1218007167.py:15: SettingWithCopyWarning: \n",
      "A value is trying to be set on a copy of a slice from a DataFrame.\n",
      "Try using .loc[row_indexer,col_indexer] = value instead\n",
      "\n",
      "See the caveats in the documentation: https://pandas.pydata.org/pandas-docs/stable/user_guide/indexing.html#returning-a-view-versus-a-copy\n",
      "  return_dict['Cosine Similarity'] = cosine_similarities[related_docs_indices]\n",
      "/var/folders/l0/kmcf3t2n6zbdwxr6qy7v3_980000gn/T/ipykernel_4123/1218007167.py:15: SettingWithCopyWarning: \n",
      "A value is trying to be set on a copy of a slice from a DataFrame.\n",
      "Try using .loc[row_indexer,col_indexer] = value instead\n",
      "\n",
      "See the caveats in the documentation: https://pandas.pydata.org/pandas-docs/stable/user_guide/indexing.html#returning-a-view-versus-a-copy\n",
      "  return_dict['Cosine Similarity'] = cosine_similarities[related_docs_indices]\n",
      "/var/folders/l0/kmcf3t2n6zbdwxr6qy7v3_980000gn/T/ipykernel_4123/1218007167.py:15: SettingWithCopyWarning: \n",
      "A value is trying to be set on a copy of a slice from a DataFrame.\n",
      "Try using .loc[row_indexer,col_indexer] = value instead\n",
      "\n",
      "See the caveats in the documentation: https://pandas.pydata.org/pandas-docs/stable/user_guide/indexing.html#returning-a-view-versus-a-copy\n",
      "  return_dict['Cosine Similarity'] = cosine_similarities[related_docs_indices]\n"
     ]
    },
    {
     "data": {
      "text/plain": [
       "(57, 20)"
      ]
     },
     "execution_count": 17,
     "metadata": {},
     "output_type": "execute_result"
    }
   ],
   "source": [
    "similar_records = pd.DataFrame()\n",
    "\n",
    "for combined_info in combined_infos:\n",
    "    new_records = get_most_similar_records(combined_info, input_activities, tfidf_matrix)\n",
    "    \n",
    "    if not similar_records.empty:\n",
    "        new_records = new_records.loc[~new_records.index.isin(similar_records.index)]\n",
    "\n",
    "    similar_records = pd.concat([similar_records, new_records], ignore_index=False)\n",
    "\n",
    "# Output the shape of the final DataFrame\n",
    "print(similar_records.shape)\n",
    "\n",
    "\n",
    "similar_records.shape\n"
   ]
  },
  {
   "cell_type": "code",
   "execution_count": 18,
   "metadata": {},
   "outputs": [],
   "source": [
    "def check_negetive_rate(places_df):\n",
    "    places = []\n",
    "    for index, row in places_df.iterrows():\n",
    "        if row['negetive_rate'] <= 0.2:\n",
    "            places.append(row)\n",
    "    return pd.DataFrame(places)"
   ]
  },
  {
   "cell_type": "code",
   "execution_count": 19,
   "metadata": {},
   "outputs": [],
   "source": [
    "def sort_by_confidence_then_rating(df_places):\n",
    "    df_places_sorted = df_places.sort_values(by=['Cosine Similarity', 'rating'], ascending=False)\n",
    "    return df_places_sorted"
   ]
  },
  {
   "cell_type": "code",
   "execution_count": 20,
   "metadata": {},
   "outputs": [],
   "source": [
    "similar_records = check_negetive_rate(similar_records)"
   ]
  },
  {
   "cell_type": "code",
   "execution_count": 21,
   "metadata": {},
   "outputs": [],
   "source": [
    "similar_records = sort_by_confidence_then_rating(similar_records)"
   ]
  },
  {
   "cell_type": "code",
   "execution_count": 22,
   "metadata": {},
   "outputs": [
    {
     "data": {
      "text/html": [
       "<div>\n",
       "<style scoped>\n",
       "    .dataframe tbody tr th:only-of-type {\n",
       "        vertical-align: middle;\n",
       "    }\n",
       "\n",
       "    .dataframe tbody tr th {\n",
       "        vertical-align: top;\n",
       "    }\n",
       "\n",
       "    .dataframe thead th {\n",
       "        text-align: right;\n",
       "    }\n",
       "</style>\n",
       "<table border=\"1\" class=\"dataframe\">\n",
       "  <thead>\n",
       "    <tr style=\"text-align: right;\">\n",
       "      <th></th>\n",
       "      <th>name</th>\n",
       "      <th>lat</th>\n",
       "      <th>lng</th>\n",
       "      <th>formatted_address</th>\n",
       "      <th>rating</th>\n",
       "      <th>user_ratings_total</th>\n",
       "      <th>latest_reviews</th>\n",
       "      <th>activities</th>\n",
       "      <th>Geographical</th>\n",
       "      <th>Historical</th>\n",
       "      <th>Religious</th>\n",
       "      <th>Natural</th>\n",
       "      <th>Entertainment</th>\n",
       "      <th>Accommodation</th>\n",
       "      <th>Shopping</th>\n",
       "      <th>Food</th>\n",
       "      <th>classified_reviews</th>\n",
       "      <th>negetive_rate</th>\n",
       "      <th>combined_info</th>\n",
       "      <th>Cosine Similarity</th>\n",
       "    </tr>\n",
       "  </thead>\n",
       "  <tbody>\n",
       "    <tr>\n",
       "      <th>26</th>\n",
       "      <td>Ella Rock Trailhead</td>\n",
       "      <td>6.857849</td>\n",
       "      <td>81.044023</td>\n",
       "      <td>Ella, Sri Lanka</td>\n",
       "      <td>4.700000</td>\n",
       "      <td>375.000000</td>\n",
       "      <td>['The Ella Rock Trailhead offers an exhilarati...</td>\n",
       "      <td>['Hiking', 'Birdwatching', 'Photography']</td>\n",
       "      <td>Situated in the central highlands with steep t...</td>\n",
       "      <td>Rich in colonial history and ancient pathways ...</td>\n",
       "      <td>Close proximity to local temples and shrines r...</td>\n",
       "      <td>Offers stunning landscapes, diverse flora and ...</td>\n",
       "      <td>Opportunities for eco-tours and guided nature ...</td>\n",
       "      <td>Variety of lodges and guesthouses available ne...</td>\n",
       "      <td>Local markets and souvenir shops in the nearby...</td>\n",
       "      <td>Availability of local cuisine in nearby cafes ...</td>\n",
       "      <td>[1, 1, 1, 1, 1]</td>\n",
       "      <td>0.0</td>\n",
       "      <td>situated central highlands steep terrain sceni...</td>\n",
       "      <td>1.0</td>\n",
       "    </tr>\n",
       "    <tr>\n",
       "      <th>316</th>\n",
       "      <td>Dakkhina Stupa - Anuradhapura</td>\n",
       "      <td>8.341160</td>\n",
       "      <td>80.395259</td>\n",
       "      <td>Anuradhapura, Sri Lanka</td>\n",
       "      <td>4.600000</td>\n",
       "      <td>183.000000</td>\n",
       "      <td>['The Dakkhina Stupa is a hidden gem in Anurad...</td>\n",
       "      <td>['Visit the stupa', 'Photography of ancient ar...</td>\n",
       "      <td>Located within a UNESCO World Heritage site, c...</td>\n",
       "      <td>One of the ancient stupas, significant to the ...</td>\n",
       "      <td>A vital pilgrimage site, showcasing Buddhist h...</td>\n",
       "      <td>Surrounded by tranquil landscapes and flora ty...</td>\n",
       "      <td>Educational tours focusing on history and arch...</td>\n",
       "      <td>Various options available in nearby towns, cat...</td>\n",
       "      <td>Souvenir shops focusing on local crafts and re...</td>\n",
       "      <td>Local cuisine available in nearby eateries, em...</td>\n",
       "      <td>[1, 1, 1, 1, 1, 1, 1]</td>\n",
       "      <td>0.0</td>\n",
       "      <td>located within unesco world heritage site char...</td>\n",
       "      <td>1.0</td>\n",
       "    </tr>\n",
       "    <tr>\n",
       "      <th>278</th>\n",
       "      <td>Dalada Maluva - ( Polonnaruwa)</td>\n",
       "      <td>7.947634</td>\n",
       "      <td>81.001233</td>\n",
       "      <td>Polonnaruwa, Sri Lanka</td>\n",
       "      <td>4.800000</td>\n",
       "      <td>1899.000000</td>\n",
       "      <td>['Dalada Maluva is a mesmerizing experience! T...</td>\n",
       "      <td>['Cultural Tours', 'Historical Exploration', '...</td>\n",
       "      <td>Located in an ancient city known for its archa...</td>\n",
       "      <td>Served as a significant religious site in the ...</td>\n",
       "      <td>Houses relics related to the Buddha, attractin...</td>\n",
       "      <td>Surrounded by remnants of ancient architecture...</td>\n",
       "      <td>Engagement in guided tours and educational pro...</td>\n",
       "      <td>Various accommodation options are available ne...</td>\n",
       "      <td>Local handicrafts and souvenirs can be found i...</td>\n",
       "      <td>Traditional food options are available in near...</td>\n",
       "      <td>[1, 1, 1, 1, 1]</td>\n",
       "      <td>0.0</td>\n",
       "      <td>located ancient city known archaeological sign...</td>\n",
       "      <td>1.0</td>\n",
       "    </tr>\n",
       "    <tr>\n",
       "      <th>368</th>\n",
       "      <td>Polonnaruwa Sivan Kovil</td>\n",
       "      <td>7.946288</td>\n",
       "      <td>81.001328</td>\n",
       "      <td>Polonnaruwa, Sri Lanka</td>\n",
       "      <td>4.800000</td>\n",
       "      <td>146.000000</td>\n",
       "      <td>['Visiting Polonnaruwa Sivan Kovil was a fasci...</td>\n",
       "      <td>['Temple Visits', 'Cultural Tours', 'Photograp...</td>\n",
       "      <td>Situated in a historically rich region with an...</td>\n",
       "      <td>Former capital of an ancient kingdom, showcasi...</td>\n",
       "      <td>Hindu temple dedicated to Lord Shiva, featurin...</td>\n",
       "      <td>Surrounded by lush greenery and water bodies, ...</td>\n",
       "      <td>Cultural festivals and religious ceremonies of...</td>\n",
       "      <td>Variety of lodging options available catering ...</td>\n",
       "      <td>Local artisans offer traditional crafts and re...</td>\n",
       "      <td>Cuisine influenced by local ingredients, featu...</td>\n",
       "      <td>[1, 1, 1, 1, 1]</td>\n",
       "      <td>0.0</td>\n",
       "      <td>situated historically rich region ancient arch...</td>\n",
       "      <td>1.0</td>\n",
       "    </tr>\n",
       "    <tr>\n",
       "      <th>78</th>\n",
       "      <td>Haputale</td>\n",
       "      <td>6.765414</td>\n",
       "      <td>80.952565</td>\n",
       "      <td>Haputale, Sri Lanka</td>\n",
       "      <td>4.459437</td>\n",
       "      <td>638.579937</td>\n",
       "      <td>['Haputale is a beautiful location with stunni...</td>\n",
       "      <td>['Hiking and trekking', 'Bird watching', 'Tea ...</td>\n",
       "      <td>Located in the central highlands, known for it...</td>\n",
       "      <td>Rich colonial history with remnants of British...</td>\n",
       "      <td>Home to several Buddhist temples, reflecting t...</td>\n",
       "      <td>Surrounded by lush green hills, diverse flora ...</td>\n",
       "      <td>Offers local cultural performances and festivals.</td>\n",
       "      <td>Variety of lodging options from guesthouses to...</td>\n",
       "      <td>Opportunities to purchase local handicrafts an...</td>\n",
       "      <td>Culinary offerings include local dishes and te...</td>\n",
       "      <td>[1, 0, 1, 1, 1]</td>\n",
       "      <td>0.2</td>\n",
       "      <td>located central highlands known cool climate s...</td>\n",
       "      <td>1.0</td>\n",
       "    </tr>\n",
       "  </tbody>\n",
       "</table>\n",
       "</div>"
      ],
      "text/plain": [
       "                               name       lat        lng  \\\n",
       "26              Ella Rock Trailhead  6.857849  81.044023   \n",
       "316   Dakkhina Stupa - Anuradhapura  8.341160  80.395259   \n",
       "278  Dalada Maluva - ( Polonnaruwa)  7.947634  81.001233   \n",
       "368         Polonnaruwa Sivan Kovil  7.946288  81.001328   \n",
       "78                         Haputale  6.765414  80.952565   \n",
       "\n",
       "           formatted_address    rating  user_ratings_total  \\\n",
       "26           Ella, Sri Lanka  4.700000          375.000000   \n",
       "316  Anuradhapura, Sri Lanka  4.600000          183.000000   \n",
       "278   Polonnaruwa, Sri Lanka  4.800000         1899.000000   \n",
       "368   Polonnaruwa, Sri Lanka  4.800000          146.000000   \n",
       "78       Haputale, Sri Lanka  4.459437          638.579937   \n",
       "\n",
       "                                        latest_reviews  \\\n",
       "26   ['The Ella Rock Trailhead offers an exhilarati...   \n",
       "316  ['The Dakkhina Stupa is a hidden gem in Anurad...   \n",
       "278  ['Dalada Maluva is a mesmerizing experience! T...   \n",
       "368  ['Visiting Polonnaruwa Sivan Kovil was a fasci...   \n",
       "78   ['Haputale is a beautiful location with stunni...   \n",
       "\n",
       "                                            activities  \\\n",
       "26           ['Hiking', 'Birdwatching', 'Photography']   \n",
       "316  ['Visit the stupa', 'Photography of ancient ar...   \n",
       "278  ['Cultural Tours', 'Historical Exploration', '...   \n",
       "368  ['Temple Visits', 'Cultural Tours', 'Photograp...   \n",
       "78   ['Hiking and trekking', 'Bird watching', 'Tea ...   \n",
       "\n",
       "                                          Geographical  \\\n",
       "26   Situated in the central highlands with steep t...   \n",
       "316  Located within a UNESCO World Heritage site, c...   \n",
       "278  Located in an ancient city known for its archa...   \n",
       "368  Situated in a historically rich region with an...   \n",
       "78   Located in the central highlands, known for it...   \n",
       "\n",
       "                                            Historical  \\\n",
       "26   Rich in colonial history and ancient pathways ...   \n",
       "316  One of the ancient stupas, significant to the ...   \n",
       "278  Served as a significant religious site in the ...   \n",
       "368  Former capital of an ancient kingdom, showcasi...   \n",
       "78   Rich colonial history with remnants of British...   \n",
       "\n",
       "                                             Religious  \\\n",
       "26   Close proximity to local temples and shrines r...   \n",
       "316  A vital pilgrimage site, showcasing Buddhist h...   \n",
       "278  Houses relics related to the Buddha, attractin...   \n",
       "368  Hindu temple dedicated to Lord Shiva, featurin...   \n",
       "78   Home to several Buddhist temples, reflecting t...   \n",
       "\n",
       "                                               Natural  \\\n",
       "26   Offers stunning landscapes, diverse flora and ...   \n",
       "316  Surrounded by tranquil landscapes and flora ty...   \n",
       "278  Surrounded by remnants of ancient architecture...   \n",
       "368  Surrounded by lush greenery and water bodies, ...   \n",
       "78   Surrounded by lush green hills, diverse flora ...   \n",
       "\n",
       "                                         Entertainment  \\\n",
       "26   Opportunities for eco-tours and guided nature ...   \n",
       "316  Educational tours focusing on history and arch...   \n",
       "278  Engagement in guided tours and educational pro...   \n",
       "368  Cultural festivals and religious ceremonies of...   \n",
       "78   Offers local cultural performances and festivals.   \n",
       "\n",
       "                                         Accommodation  \\\n",
       "26   Variety of lodges and guesthouses available ne...   \n",
       "316  Various options available in nearby towns, cat...   \n",
       "278  Various accommodation options are available ne...   \n",
       "368  Variety of lodging options available catering ...   \n",
       "78   Variety of lodging options from guesthouses to...   \n",
       "\n",
       "                                              Shopping  \\\n",
       "26   Local markets and souvenir shops in the nearby...   \n",
       "316  Souvenir shops focusing on local crafts and re...   \n",
       "278  Local handicrafts and souvenirs can be found i...   \n",
       "368  Local artisans offer traditional crafts and re...   \n",
       "78   Opportunities to purchase local handicrafts an...   \n",
       "\n",
       "                                                  Food     classified_reviews  \\\n",
       "26   Availability of local cuisine in nearby cafes ...        [1, 1, 1, 1, 1]   \n",
       "316  Local cuisine available in nearby eateries, em...  [1, 1, 1, 1, 1, 1, 1]   \n",
       "278  Traditional food options are available in near...        [1, 1, 1, 1, 1]   \n",
       "368  Cuisine influenced by local ingredients, featu...        [1, 1, 1, 1, 1]   \n",
       "78   Culinary offerings include local dishes and te...        [1, 0, 1, 1, 1]   \n",
       "\n",
       "     negetive_rate                                      combined_info  \\\n",
       "26             0.0  situated central highlands steep terrain sceni...   \n",
       "316            0.0  located within unesco world heritage site char...   \n",
       "278            0.0  located ancient city known archaeological sign...   \n",
       "368            0.0  situated historically rich region ancient arch...   \n",
       "78             0.2  located central highlands known cool climate s...   \n",
       "\n",
       "     Cosine Similarity  \n",
       "26                 1.0  \n",
       "316                1.0  \n",
       "278                1.0  \n",
       "368                1.0  \n",
       "78                 1.0  "
      ]
     },
     "execution_count": 22,
     "metadata": {},
     "output_type": "execute_result"
    }
   ],
   "source": [
    "similar_records.head(5)"
   ]
  },
  {
   "cell_type": "markdown",
   "metadata": {},
   "source": [
    "### Inference testing"
   ]
  },
  {
   "cell_type": "code",
   "execution_count": null,
   "metadata": {},
   "outputs": [],
   "source": []
  }
 ],
 "metadata": {
  "kernelspec": {
   "display_name": "td",
   "language": "python",
   "name": "python3"
  },
  "language_info": {
   "codemirror_mode": {
    "name": "ipython",
    "version": 3
   },
   "file_extension": ".py",
   "mimetype": "text/x-python",
   "name": "python",
   "nbconvert_exporter": "python",
   "pygments_lexer": "ipython3",
   "version": "3.11.5"
  }
 },
 "nbformat": 4,
 "nbformat_minor": 2
}
