{
 "cells": [
  {
   "cell_type": "code",
   "execution_count": 1,
   "metadata": {},
   "outputs": [],
   "source": [
    "import numpy as np\n",
    "import pandas as pd\n",
    "import matplotlib.pyplot as plt\n",
    "import seaborn as sns\n",
    "from sklearn.preprocessing import StandardScaler"
   ]
  },
  {
   "cell_type": "code",
   "execution_count": 2,
   "metadata": {},
   "outputs": [],
   "source": [
    "user_df = pd.read_excel('../data/Visitors Preference Dataset .xlsx')\n",
    "places_df = pd.read_csv('../data/Places Dataset Classified Reviews Cleaned Combined .csv')"
   ]
  },
  {
   "cell_type": "code",
   "execution_count": 3,
   "metadata": {},
   "outputs": [],
   "source": [
    "from unidecode import unidecode\n",
    "\n",
    "def clean_non_ascii(df):\n",
    "    for col in df.select_dtypes(include=['object']).columns:\n",
    "        df[col] = df[col].apply(lambda x: unidecode(str(x)))\n",
    "    return df\n",
    "\n",
    "user_df = clean_non_ascii(user_df)\n",
    "places_df = clean_non_ascii(places_df)"
   ]
  },
  {
   "cell_type": "code",
   "execution_count": 4,
   "metadata": {},
   "outputs": [
    {
     "data": {
      "text/html": [
       "<div>\n",
       "<style scoped>\n",
       "    .dataframe tbody tr th:only-of-type {\n",
       "        vertical-align: middle;\n",
       "    }\n",
       "\n",
       "    .dataframe tbody tr th {\n",
       "        vertical-align: top;\n",
       "    }\n",
       "\n",
       "    .dataframe thead th {\n",
       "        text-align: right;\n",
       "    }\n",
       "</style>\n",
       "<table border=\"1\" class=\"dataframe\">\n",
       "  <thead>\n",
       "    <tr style=\"text-align: right;\">\n",
       "      <th></th>\n",
       "      <th>User ID</th>\n",
       "      <th>Name</th>\n",
       "      <th>Email</th>\n",
       "      <th>Preferred Activities</th>\n",
       "      <th>Bucket list destinations Sri Lanka</th>\n",
       "    </tr>\n",
       "  </thead>\n",
       "  <tbody>\n",
       "    <tr>\n",
       "      <th>29</th>\n",
       "      <td>30</td>\n",
       "      <td>Kristin Lee</td>\n",
       "      <td>kristin.lee@example.com</td>\n",
       "      <td>['cultural experiences', 'temple pilgrimages',...</td>\n",
       "      <td>[\"Sri Pada / Adam's Peak\", 'Kandy Temple', 'An...</td>\n",
       "    </tr>\n",
       "  </tbody>\n",
       "</table>\n",
       "</div>"
      ],
      "text/plain": [
       "    User ID         Name                    Email  \\\n",
       "29       30  Kristin Lee  kristin.lee@example.com   \n",
       "\n",
       "                                 Preferred Activities  \\\n",
       "29  ['cultural experiences', 'temple pilgrimages',...   \n",
       "\n",
       "                   Bucket list destinations Sri Lanka  \n",
       "29  [\"Sri Pada / Adam's Peak\", 'Kandy Temple', 'An...  "
      ]
     },
     "execution_count": 4,
     "metadata": {},
     "output_type": "execute_result"
    }
   ],
   "source": [
    "user_1 = user_df[user_df['User ID'] == 30]\n",
    "user_1"
   ]
  },
  {
   "cell_type": "code",
   "execution_count": 5,
   "metadata": {},
   "outputs": [
    {
     "data": {
      "text/plain": [
       "\"['cultural experiences', 'temple pilgrimages', 'sailing']\""
      ]
     },
     "execution_count": 5,
     "metadata": {},
     "output_type": "execute_result"
    }
   ],
   "source": [
    "preferred_activities = user_1[\"Preferred Activities\"]\n",
    "preferred_activities = preferred_activities.values[0]\n",
    "preferred_activities"
   ]
  },
  {
   "cell_type": "code",
   "execution_count": 6,
   "metadata": {},
   "outputs": [
    {
     "name": "stdout",
     "output_type": "stream",
     "text": [
      "['cultural experiences', 'temple pilgrimages', 'sailing']\n"
     ]
    }
   ],
   "source": [
    "import ast\n",
    "\n",
    "def convert_string_to_list(input_string):\n",
    "    return ast.literal_eval(input_string)\n",
    "\n",
    "print(preferred_activities)"
   ]
  },
  {
   "cell_type": "code",
   "execution_count": 7,
   "metadata": {},
   "outputs": [
    {
     "data": {
      "text/plain": [
       "[\"Sri Pada / Adam's Peak\",\n",
       " 'Kandy Temple',\n",
       " 'Anuradhapura',\n",
       " 'Negombo Lagoon',\n",
       " 'Arankelle Forest Monastery']"
      ]
     },
     "execution_count": 7,
     "metadata": {},
     "output_type": "execute_result"
    }
   ],
   "source": [
    "prefered_destinations = user_1[\"Bucket list destinations Sri Lanka\"]\n",
    "prefered_destinations = prefered_destinations.values[0]\n",
    "prefered_destinations_array = convert_string_to_list(prefered_destinations)\n",
    "prefered_destinations_array"
   ]
  },
  {
   "cell_type": "code",
   "execution_count": 8,
   "metadata": {},
   "outputs": [
    {
     "data": {
      "text/plain": [
       "['cultural experiences', 'temple pilgrimages', 'sailing']"
      ]
     },
     "execution_count": 8,
     "metadata": {},
     "output_type": "execute_result"
    }
   ],
   "source": [
    "prefered_activity_array = convert_string_to_list(preferred_activities)\n",
    "prefered_activity_array"
   ]
  },
  {
   "cell_type": "code",
   "execution_count": 9,
   "metadata": {},
   "outputs": [
    {
     "name": "stdout",
     "output_type": "stream",
     "text": [
      "Sri Pada / Adam's Peak\n",
      "Kandy Temple\n",
      "Anuradhapura\n",
      "Negombo Lagoon\n",
      "Arankelle Forest Monastery\n"
     ]
    }
   ],
   "source": [
    "for destination in prefered_destinations_array:\n",
    "    print(destination)"
   ]
  },
  {
   "cell_type": "code",
   "execution_count": 10,
   "metadata": {},
   "outputs": [],
   "source": [
    "import pandas as pd\n",
    "\n",
    "def find_places_based_on_user_preferences(prefered_destinations_array) -> pd.DataFrame:\n",
    "    pattern = '|'.join(prefered_destinations_array)\n",
    "    \n",
    "    filtered_df = places_df[\n",
    "        places_df['name'].str.contains(pattern, regex=True, na=False)\n",
    "    ]\n",
    "    \n",
    "    return filtered_df\n"
   ]
  },
  {
   "cell_type": "code",
   "execution_count": 11,
   "metadata": {},
   "outputs": [
    {
     "data": {
      "text/html": [
       "<div>\n",
       "<style scoped>\n",
       "    .dataframe tbody tr th:only-of-type {\n",
       "        vertical-align: middle;\n",
       "    }\n",
       "\n",
       "    .dataframe tbody tr th {\n",
       "        vertical-align: top;\n",
       "    }\n",
       "\n",
       "    .dataframe thead th {\n",
       "        text-align: right;\n",
       "    }\n",
       "</style>\n",
       "<table border=\"1\" class=\"dataframe\">\n",
       "  <thead>\n",
       "    <tr style=\"text-align: right;\">\n",
       "      <th></th>\n",
       "      <th>name</th>\n",
       "      <th>lat</th>\n",
       "      <th>lng</th>\n",
       "      <th>formatted_address</th>\n",
       "      <th>rating</th>\n",
       "      <th>user_ratings_total</th>\n",
       "      <th>latest_reviews</th>\n",
       "      <th>activities</th>\n",
       "      <th>Geographical</th>\n",
       "      <th>Historical</th>\n",
       "      <th>Religious</th>\n",
       "      <th>Natural</th>\n",
       "      <th>Entertainment</th>\n",
       "      <th>Accommodation</th>\n",
       "      <th>Shopping</th>\n",
       "      <th>Food</th>\n",
       "      <th>classified_reviews</th>\n",
       "      <th>negetive_rate</th>\n",
       "      <th>combined_info</th>\n",
       "    </tr>\n",
       "  </thead>\n",
       "  <tbody>\n",
       "    <tr>\n",
       "      <th>23</th>\n",
       "      <td>Anuradhapura</td>\n",
       "      <td>8.311352</td>\n",
       "      <td>80.403651</td>\n",
       "      <td>Anuradhapura, Sri Lanka</td>\n",
       "      <td>4.459437</td>\n",
       "      <td>638.579937</td>\n",
       "      <td>['Anuradhapura is rich in history, but I found...</td>\n",
       "      <td>['Biking around archaeological sites', 'Explor...</td>\n",
       "      <td>Ancient city located in the North Central Prov...</td>\n",
       "      <td>One of the ancient capitals of Sri Lanka, know...</td>\n",
       "      <td>Home to numerous stupas and temples, including...</td>\n",
       "      <td>Surrounded by green landscapes, including sacr...</td>\n",
       "      <td>Cultural festivals and local events celebratin...</td>\n",
       "      <td>Variety of options from guesthouses to eco-lod...</td>\n",
       "      <td>Local markets offer handicrafts, textiles, and...</td>\n",
       "      <td>Diverse cuisine featuring local specialties of...</td>\n",
       "      <td>[1, 1, 0, 1, 1]</td>\n",
       "      <td>0.2</td>\n",
       "      <td>ancient city located north central province ch...</td>\n",
       "    </tr>\n",
       "    <tr>\n",
       "      <th>30</th>\n",
       "      <td>Sri Pada / Adam's Peak</td>\n",
       "      <td>6.809643</td>\n",
       "      <td>80.499388</td>\n",
       "      <td>Sri Pada / Adam's Peak, Sri Lanka</td>\n",
       "      <td>4.900000</td>\n",
       "      <td>5430.000000</td>\n",
       "      <td>['Hiking AdamAC/AEURA(tm)s Peak was one of the...</td>\n",
       "      <td>['Trekking', 'Pilgrimage']</td>\n",
       "      <td>Towering mountain; important topographical fea...</td>\n",
       "      <td>Significant pilgrimage site with rich history;...</td>\n",
       "      <td>Sacred to multiple religions; associated with ...</td>\n",
       "      <td>Biodiverse area; various flora and fauna; scen...</td>\n",
       "      <td>Cultural festivals; night climbing experiences.</td>\n",
       "      <td>Limited guesthouses; basic amenities available.</td>\n",
       "      <td>Local crafts; pilgrimage-related items.</td>\n",
       "      <td>Traditional local cuisine; simple eateries.</td>\n",
       "      <td>[1, 1, 1, 1, 1, 1]</td>\n",
       "      <td>0.0</td>\n",
       "      <td>towering mountain important topographical feat...</td>\n",
       "    </tr>\n",
       "    <tr>\n",
       "      <th>45</th>\n",
       "      <td>Negombo Lagoon</td>\n",
       "      <td>7.158004</td>\n",
       "      <td>79.846480</td>\n",
       "      <td>Negombo Lagoon, Sri Lanka</td>\n",
       "      <td>4.500000</td>\n",
       "      <td>268.000000</td>\n",
       "      <td>['Negombo Lagoon was a delightful escape! We t...</td>\n",
       "      <td>['Bird watching', 'Fishing tours', 'Kayaking',...</td>\n",
       "      <td>Coastal lagoon region, rich in biodiversity.</td>\n",
       "      <td>Significant for trade; influenced by colonial ...</td>\n",
       "      <td>Shrine and local fishing communities with cult...</td>\n",
       "      <td>Home to mangrove forests and diverse wildlife.</td>\n",
       "      <td>Local festivals and traditional boat races.</td>\n",
       "      <td>Proximity to beach resorts and guesthouses.</td>\n",
       "      <td>Local craft markets and fish markets.</td>\n",
       "      <td>Seafood delicacies and local cuisine.</td>\n",
       "      <td>[1, 1, 1, 1, 1]</td>\n",
       "      <td>0.0</td>\n",
       "      <td>coastal lagoon region rich biodiversity signif...</td>\n",
       "    </tr>\n",
       "    <tr>\n",
       "      <th>315</th>\n",
       "      <td>Anuradhapura New Town</td>\n",
       "      <td>8.322765</td>\n",
       "      <td>80.402577</td>\n",
       "      <td>Anuradhapura, Sri Lanka</td>\n",
       "      <td>4.400000</td>\n",
       "      <td>167.000000</td>\n",
       "      <td>['Anuradhapura New Town is a fascinating blend...</td>\n",
       "      <td>['Historical Ruins Exploration', 'Bicycle Tour...</td>\n",
       "      <td>Located in the north-central region of the cou...</td>\n",
       "      <td>Home to ancient Sri Lankan kings and numerous ...</td>\n",
       "      <td>Contains significant Buddhist temples and stup...</td>\n",
       "      <td>Surrounded by lush greenery, rice fields, and ...</td>\n",
       "      <td>Various cultural performances and local events...</td>\n",
       "      <td>Options range from guesthouses to hotels cater...</td>\n",
       "      <td>Local markets offering traditional crafts, tex...</td>\n",
       "      <td>Local cuisine featuring traditional Sri Lankan...</td>\n",
       "      <td>[1, 1, 1, 1, 1]</td>\n",
       "      <td>0.0</td>\n",
       "      <td>located northcentral region country characteri...</td>\n",
       "    </tr>\n",
       "    <tr>\n",
       "      <th>316</th>\n",
       "      <td>Dakkhina Stupa - Anuradhapura</td>\n",
       "      <td>8.341160</td>\n",
       "      <td>80.395259</td>\n",
       "      <td>Anuradhapura, Sri Lanka</td>\n",
       "      <td>4.600000</td>\n",
       "      <td>183.000000</td>\n",
       "      <td>['The Dakkhina Stupa is a hidden gem in Anurad...</td>\n",
       "      <td>['Visit the stupa', 'Photography of ancient ar...</td>\n",
       "      <td>Located within a UNESCO World Heritage site, c...</td>\n",
       "      <td>One of the ancient stupas, significant to the ...</td>\n",
       "      <td>A vital pilgrimage site, showcasing Buddhist h...</td>\n",
       "      <td>Surrounded by tranquil landscapes and flora ty...</td>\n",
       "      <td>Educational tours focusing on history and arch...</td>\n",
       "      <td>Various options available in nearby towns, cat...</td>\n",
       "      <td>Souvenir shops focusing on local crafts and re...</td>\n",
       "      <td>Local cuisine available in nearby eateries, em...</td>\n",
       "      <td>[1, 1, 1, 1, 1, 1, 1]</td>\n",
       "      <td>0.0</td>\n",
       "      <td>located within unesco world heritage site char...</td>\n",
       "    </tr>\n",
       "    <tr>\n",
       "      <th>317</th>\n",
       "      <td>Maha Viharaya, Anuradhapura</td>\n",
       "      <td>8.344689</td>\n",
       "      <td>80.396583</td>\n",
       "      <td>Anuradhapura, Sri Lanka</td>\n",
       "      <td>4.700000</td>\n",
       "      <td>187.000000</td>\n",
       "      <td>['Maha Viharaya is a remarkable place steeped ...</td>\n",
       "      <td>['Exploring ancient ruins', 'Guided historical...</td>\n",
       "      <td>Located in north-central part of Sri Lanka, su...</td>\n",
       "      <td>Once a prominent monastic complex, reflecting ...</td>\n",
       "      <td>Significant site for Buddhist pilgrims, housin...</td>\n",
       "      <td>Surrounded by lush greenery and integrated int...</td>\n",
       "      <td>Cultural performances and festivals related to...</td>\n",
       "      <td>Various lodging options available in nearby ar...</td>\n",
       "      <td>Local craft shops and souvenir vendors in vici...</td>\n",
       "      <td>Traditional Sri Lankan cuisine available at ne...</td>\n",
       "      <td>[1, 1, 1, 1, 1]</td>\n",
       "      <td>0.0</td>\n",
       "      <td>located northcentral part sri lanka surrounded...</td>\n",
       "    </tr>\n",
       "  </tbody>\n",
       "</table>\n",
       "</div>"
      ],
      "text/plain": [
       "                              name       lat        lng  \\\n",
       "23                    Anuradhapura  8.311352  80.403651   \n",
       "30          Sri Pada / Adam's Peak  6.809643  80.499388   \n",
       "45                  Negombo Lagoon  7.158004  79.846480   \n",
       "315          Anuradhapura New Town  8.322765  80.402577   \n",
       "316  Dakkhina Stupa - Anuradhapura  8.341160  80.395259   \n",
       "317    Maha Viharaya, Anuradhapura  8.344689  80.396583   \n",
       "\n",
       "                     formatted_address    rating  user_ratings_total  \\\n",
       "23             Anuradhapura, Sri Lanka  4.459437          638.579937   \n",
       "30   Sri Pada / Adam's Peak, Sri Lanka  4.900000         5430.000000   \n",
       "45           Negombo Lagoon, Sri Lanka  4.500000          268.000000   \n",
       "315            Anuradhapura, Sri Lanka  4.400000          167.000000   \n",
       "316            Anuradhapura, Sri Lanka  4.600000          183.000000   \n",
       "317            Anuradhapura, Sri Lanka  4.700000          187.000000   \n",
       "\n",
       "                                        latest_reviews  \\\n",
       "23   ['Anuradhapura is rich in history, but I found...   \n",
       "30   ['Hiking AdamAC/AEURA(tm)s Peak was one of the...   \n",
       "45   ['Negombo Lagoon was a delightful escape! We t...   \n",
       "315  ['Anuradhapura New Town is a fascinating blend...   \n",
       "316  ['The Dakkhina Stupa is a hidden gem in Anurad...   \n",
       "317  ['Maha Viharaya is a remarkable place steeped ...   \n",
       "\n",
       "                                            activities  \\\n",
       "23   ['Biking around archaeological sites', 'Explor...   \n",
       "30                          ['Trekking', 'Pilgrimage']   \n",
       "45   ['Bird watching', 'Fishing tours', 'Kayaking',...   \n",
       "315  ['Historical Ruins Exploration', 'Bicycle Tour...   \n",
       "316  ['Visit the stupa', 'Photography of ancient ar...   \n",
       "317  ['Exploring ancient ruins', 'Guided historical...   \n",
       "\n",
       "                                          Geographical  \\\n",
       "23   Ancient city located in the North Central Prov...   \n",
       "30   Towering mountain; important topographical fea...   \n",
       "45        Coastal lagoon region, rich in biodiversity.   \n",
       "315  Located in the north-central region of the cou...   \n",
       "316  Located within a UNESCO World Heritage site, c...   \n",
       "317  Located in north-central part of Sri Lanka, su...   \n",
       "\n",
       "                                            Historical  \\\n",
       "23   One of the ancient capitals of Sri Lanka, know...   \n",
       "30   Significant pilgrimage site with rich history;...   \n",
       "45   Significant for trade; influenced by colonial ...   \n",
       "315  Home to ancient Sri Lankan kings and numerous ...   \n",
       "316  One of the ancient stupas, significant to the ...   \n",
       "317  Once a prominent monastic complex, reflecting ...   \n",
       "\n",
       "                                             Religious  \\\n",
       "23   Home to numerous stupas and temples, including...   \n",
       "30   Sacred to multiple religions; associated with ...   \n",
       "45   Shrine and local fishing communities with cult...   \n",
       "315  Contains significant Buddhist temples and stup...   \n",
       "316  A vital pilgrimage site, showcasing Buddhist h...   \n",
       "317  Significant site for Buddhist pilgrims, housin...   \n",
       "\n",
       "                                               Natural  \\\n",
       "23   Surrounded by green landscapes, including sacr...   \n",
       "30   Biodiverse area; various flora and fauna; scen...   \n",
       "45      Home to mangrove forests and diverse wildlife.   \n",
       "315  Surrounded by lush greenery, rice fields, and ...   \n",
       "316  Surrounded by tranquil landscapes and flora ty...   \n",
       "317  Surrounded by lush greenery and integrated int...   \n",
       "\n",
       "                                         Entertainment  \\\n",
       "23   Cultural festivals and local events celebratin...   \n",
       "30     Cultural festivals; night climbing experiences.   \n",
       "45         Local festivals and traditional boat races.   \n",
       "315  Various cultural performances and local events...   \n",
       "316  Educational tours focusing on history and arch...   \n",
       "317  Cultural performances and festivals related to...   \n",
       "\n",
       "                                         Accommodation  \\\n",
       "23   Variety of options from guesthouses to eco-lod...   \n",
       "30     Limited guesthouses; basic amenities available.   \n",
       "45         Proximity to beach resorts and guesthouses.   \n",
       "315  Options range from guesthouses to hotels cater...   \n",
       "316  Various options available in nearby towns, cat...   \n",
       "317  Various lodging options available in nearby ar...   \n",
       "\n",
       "                                              Shopping  \\\n",
       "23   Local markets offer handicrafts, textiles, and...   \n",
       "30             Local crafts; pilgrimage-related items.   \n",
       "45               Local craft markets and fish markets.   \n",
       "315  Local markets offering traditional crafts, tex...   \n",
       "316  Souvenir shops focusing on local crafts and re...   \n",
       "317  Local craft shops and souvenir vendors in vici...   \n",
       "\n",
       "                                                  Food     classified_reviews  \\\n",
       "23   Diverse cuisine featuring local specialties of...        [1, 1, 0, 1, 1]   \n",
       "30         Traditional local cuisine; simple eateries.     [1, 1, 1, 1, 1, 1]   \n",
       "45               Seafood delicacies and local cuisine.        [1, 1, 1, 1, 1]   \n",
       "315  Local cuisine featuring traditional Sri Lankan...        [1, 1, 1, 1, 1]   \n",
       "316  Local cuisine available in nearby eateries, em...  [1, 1, 1, 1, 1, 1, 1]   \n",
       "317  Traditional Sri Lankan cuisine available at ne...        [1, 1, 1, 1, 1]   \n",
       "\n",
       "     negetive_rate                                      combined_info  \n",
       "23             0.2  ancient city located north central province ch...  \n",
       "30             0.0  towering mountain important topographical feat...  \n",
       "45             0.0  coastal lagoon region rich biodiversity signif...  \n",
       "315            0.0  located northcentral region country characteri...  \n",
       "316            0.0  located within unesco world heritage site char...  \n",
       "317            0.0  located northcentral part sri lanka surrounded...  "
      ]
     },
     "execution_count": 11,
     "metadata": {},
     "output_type": "execute_result"
    }
   ],
   "source": [
    "input_places = find_places_based_on_user_preferences(prefered_destinations_array)\n",
    "input_places"
   ]
  },
  {
   "cell_type": "code",
   "execution_count": 12,
   "metadata": {},
   "outputs": [],
   "source": [
    "from sklearn.feature_extraction.text import TfidfVectorizer\n",
    "from sklearn.metrics.pairwise import cosine_similarity\n",
    "import pickle"
   ]
  },
  {
   "cell_type": "code",
   "execution_count": 13,
   "metadata": {},
   "outputs": [],
   "source": [
    "tfidf = TfidfVectorizer(stop_words='english')\n",
    "tfidf_matrix = tfidf.fit_transform(places_df['combined_info'])"
   ]
  },
  {
   "cell_type": "code",
   "execution_count": 14,
   "metadata": {},
   "outputs": [],
   "source": [
    "import pandas as pd\n",
    "import numpy as np\n",
    "from sklearn.feature_extraction.text import TfidfVectorizer\n",
    "from sklearn.metrics.pairwise import cosine_similarity\n",
    "\n",
    "def get_most_similar_records(input_description, input_activities, tfidf_matrix)-> pd.DataFrame:\n",
    "    input_activities_str = ' '.join(input_activities)\n",
    "    input_description = input_description\n",
    "    \n",
    "    input_tfidf = tfidf.transform([input_description])\n",
    "    cosine_similarities = cosine_similarity(input_tfidf, tfidf_matrix).flatten()\n",
    "    \n",
    "    related_docs_indices = cosine_similarities.argsort()[:-10:-1]\n",
    "    return_dict = places_df.iloc[related_docs_indices]\n",
    "    return_dict['Cosine Similarity'] = cosine_similarities[related_docs_indices]\n",
    "\n",
    "    return return_dict\n",
    "    "
   ]
  },
  {
   "cell_type": "code",
   "execution_count": 15,
   "metadata": {},
   "outputs": [
    {
     "data": {
      "text/plain": [
       "['ancient city located north central province characterized flat plains significant water reservoirs one ancient capitals sri lanka known wellpreserved ruins role development buddhism region home numerous stupas temples including significant pilgrimage sites buddhists surrounded green landscapes including sacred bodhi trees network lakes reservoirs cultural festivals local events celebrating heritage traditions variety options guesthouses ecolodges catering different preferences local markets offer handicrafts textiles traditional items diverse cuisine featuring local specialties often based rice curry',\n",
       " 'towering mountain important topographical feature significant pilgrimage site rich history references ancient texts sacred multiple religions associated buddha shiva biodiverse area various flora fauna scenic views cultural festivals night climbing experiences limited guesthouses basic amenities available local crafts pilgrimagerelated items traditional local cuisine simple eateries',\n",
       " 'coastal lagoon region rich biodiversity significant trade influenced colonial history shrine local fishing communities cultural practices home mangrove forests diverse wildlife local festivals traditional boat races proximity beach resorts guesthouses local craft markets fish markets seafood delicacies local cuisine',\n",
       " 'located northcentral region country characterized mix urban development ancient relics home ancient sri lankan kings numerous significant archaeological sites history spanning 2000 years contains significant buddhist temples stupas important pilgrimage worship surrounded lush greenery rice fields ancient ponds providing natural habitat diverse flora fauna various cultural performances local events showcasing traditional music dance options range guesthouses hotels catering various budgets preferences local markets offering traditional crafts textiles fresh produce local cuisine featuring traditional sri lankan dishes focus rice curry tropical fruits',\n",
       " 'located within unesco world heritage site characterized ancient ruins lush vegetation one ancient stupas significant early buddhist community reflecting architectural brilliance time vital pilgrimage site showcasing buddhist heritage history surrounded tranquil landscapes flora typical regions dry zone educational tours focusing history archaeology various options available nearby towns catering different budgets souvenir shops focusing local crafts religious artifacts local cuisine available nearby eateries emphasizing traditional flavors',\n",
       " 'located northcentral part sri lanka surrounded ancient city landscapes prominent monastic complex reflecting grandeur early buddhist civilization significant site buddhist pilgrims housing ancient stupas shrines surrounded lush greenery integrated serene landscape cultural performances festivals related buddhist traditions various lodging options available nearby areas visitors local craft shops souvenir vendors vicinity traditional sri lankan cuisine available nearby eateries']"
      ]
     },
     "execution_count": 15,
     "metadata": {},
     "output_type": "execute_result"
    }
   ],
   "source": [
    "combined_infos = []\n",
    "\n",
    "for index, row in input_places.iterrows():\n",
    "    combined_infos.append(row['combined_info'])\n",
    "    \n",
    "combined_infos"
   ]
  },
  {
   "cell_type": "code",
   "execution_count": 16,
   "metadata": {},
   "outputs": [],
   "source": [
    "input_activities = prefered_activity_array"
   ]
  },
  {
   "cell_type": "code",
   "execution_count": 17,
   "metadata": {},
   "outputs": [
    {
     "name": "stdout",
     "output_type": "stream",
     "text": [
      "(45, 20)\n"
     ]
    },
    {
     "name": "stderr",
     "output_type": "stream",
     "text": [
      "/var/folders/l0/kmcf3t2n6zbdwxr6qy7v3_980000gn/T/ipykernel_61229/1218007167.py:15: SettingWithCopyWarning: \n",
      "A value is trying to be set on a copy of a slice from a DataFrame.\n",
      "Try using .loc[row_indexer,col_indexer] = value instead\n",
      "\n",
      "See the caveats in the documentation: https://pandas.pydata.org/pandas-docs/stable/user_guide/indexing.html#returning-a-view-versus-a-copy\n",
      "  return_dict['Cosine Similarity'] = cosine_similarities[related_docs_indices]\n",
      "/var/folders/l0/kmcf3t2n6zbdwxr6qy7v3_980000gn/T/ipykernel_61229/1218007167.py:15: SettingWithCopyWarning: \n",
      "A value is trying to be set on a copy of a slice from a DataFrame.\n",
      "Try using .loc[row_indexer,col_indexer] = value instead\n",
      "\n",
      "See the caveats in the documentation: https://pandas.pydata.org/pandas-docs/stable/user_guide/indexing.html#returning-a-view-versus-a-copy\n",
      "  return_dict['Cosine Similarity'] = cosine_similarities[related_docs_indices]\n",
      "/var/folders/l0/kmcf3t2n6zbdwxr6qy7v3_980000gn/T/ipykernel_61229/1218007167.py:15: SettingWithCopyWarning: \n",
      "A value is trying to be set on a copy of a slice from a DataFrame.\n",
      "Try using .loc[row_indexer,col_indexer] = value instead\n",
      "\n",
      "See the caveats in the documentation: https://pandas.pydata.org/pandas-docs/stable/user_guide/indexing.html#returning-a-view-versus-a-copy\n",
      "  return_dict['Cosine Similarity'] = cosine_similarities[related_docs_indices]\n",
      "/var/folders/l0/kmcf3t2n6zbdwxr6qy7v3_980000gn/T/ipykernel_61229/1218007167.py:15: SettingWithCopyWarning: \n",
      "A value is trying to be set on a copy of a slice from a DataFrame.\n",
      "Try using .loc[row_indexer,col_indexer] = value instead\n",
      "\n",
      "See the caveats in the documentation: https://pandas.pydata.org/pandas-docs/stable/user_guide/indexing.html#returning-a-view-versus-a-copy\n",
      "  return_dict['Cosine Similarity'] = cosine_similarities[related_docs_indices]\n",
      "/var/folders/l0/kmcf3t2n6zbdwxr6qy7v3_980000gn/T/ipykernel_61229/1218007167.py:15: SettingWithCopyWarning: \n",
      "A value is trying to be set on a copy of a slice from a DataFrame.\n",
      "Try using .loc[row_indexer,col_indexer] = value instead\n",
      "\n",
      "See the caveats in the documentation: https://pandas.pydata.org/pandas-docs/stable/user_guide/indexing.html#returning-a-view-versus-a-copy\n",
      "  return_dict['Cosine Similarity'] = cosine_similarities[related_docs_indices]\n",
      "/var/folders/l0/kmcf3t2n6zbdwxr6qy7v3_980000gn/T/ipykernel_61229/1218007167.py:15: SettingWithCopyWarning: \n",
      "A value is trying to be set on a copy of a slice from a DataFrame.\n",
      "Try using .loc[row_indexer,col_indexer] = value instead\n",
      "\n",
      "See the caveats in the documentation: https://pandas.pydata.org/pandas-docs/stable/user_guide/indexing.html#returning-a-view-versus-a-copy\n",
      "  return_dict['Cosine Similarity'] = cosine_similarities[related_docs_indices]\n"
     ]
    },
    {
     "data": {
      "text/plain": [
       "(45, 20)"
      ]
     },
     "execution_count": 17,
     "metadata": {},
     "output_type": "execute_result"
    }
   ],
   "source": [
    "similar_records = pd.DataFrame()\n",
    "\n",
    "for combined_info in combined_infos:\n",
    "    new_records = get_most_similar_records(combined_info, input_activities, tfidf_matrix)\n",
    "    \n",
    "    if not similar_records.empty:\n",
    "        new_records = new_records.loc[~new_records.index.isin(similar_records.index)]\n",
    "\n",
    "    similar_records = pd.concat([similar_records, new_records], ignore_index=False)\n",
    "\n",
    "print(similar_records.shape)\n",
    "\n",
    "\n",
    "similar_records.shape\n"
   ]
  },
  {
   "cell_type": "code",
   "execution_count": 18,
   "metadata": {},
   "outputs": [],
   "source": [
    "def check_negetive_rate(places_df):\n",
    "    places = []\n",
    "    for index, row in places_df.iterrows():\n",
    "        if row['negetive_rate'] <= 0.2:\n",
    "            places.append(row)\n",
    "    return pd.DataFrame(places)"
   ]
  },
  {
   "cell_type": "code",
   "execution_count": 19,
   "metadata": {},
   "outputs": [],
   "source": [
    "def sort_by_confidence_then_rating(df_places):\n",
    "    df_places_sorted = df_places.sort_values(by=['Cosine Similarity', 'rating'], ascending=False)\n",
    "    return df_places_sorted"
   ]
  },
  {
   "cell_type": "code",
   "execution_count": 20,
   "metadata": {},
   "outputs": [],
   "source": [
    "similar_records = check_negetive_rate(similar_records)"
   ]
  },
  {
   "cell_type": "code",
   "execution_count": 21,
   "metadata": {},
   "outputs": [],
   "source": [
    "similar_records = sort_by_confidence_then_rating(similar_records)\n",
    "similar_records = similar_records[~similar_records['name'].isin(prefered_destinations_array)].head(5)"
   ]
  },
  {
   "cell_type": "code",
   "execution_count": 22,
   "metadata": {},
   "outputs": [
    {
     "data": {
      "text/plain": [
       "['located within unesco world heritage site characterized ancient ruins lush vegetation one ancient stupas significant early buddhist community reflecting architectural brilliance time vital pilgrimage site showcasing buddhist heritage history surrounded tranquil landscapes flora typical regions dry zone educational tours focusing history archaeology various options available nearby towns catering different budgets souvenir shops focusing local crafts religious artifacts local cuisine available nearby eateries emphasizing traditional flavors',\n",
       " 'coastal lagoon area tropical vegetation significant local communities traditional fishing practices often associated local beliefs coastal rituals rich biodiversity including mangroves wildlife scenic boat rides local cultural events ecofriendly lodges guest houses available local crafts souvenirs often nearby markets fresh seafood traditional sri lankan cuisine',\n",
       " 'coastal area sandy beaches clear waters influenced colonial history local fishing traditions proximity various temples local beliefs diverse marine life beautiful coral reefs beach parties local festivals variety guest houses beach resorts local markets craft shops seafood dishes local specialties',\n",
       " 'located serene environment lush greenery proximity water bodies ancient buddhist temple significant archaeological importance historical artifacts dating back centuries prominent site buddhist worship rituals attracting pilgrims visitors spiritual practices surrounded natural landscapes including forests water bodies offering tranquility scenic views festivals local events related buddhist traditions guesthouses lodges nearby areas suitable pilgrims tourists local handicrafts religious artifacts traditional souvenirs available nearby markets local cuisine offerings often available nearby eateries festivals',\n",
       " 'nestled hill country showcasing lush greenery diverse landscapes rich history remnants ancient civilizations colonial influence home several temples sites spiritual significance surrounded stunning natural beauty including mountains waterfalls tea plantations local festivals cultural performances range options budget guesthouses midrange hotels local markets shops selling handicrafts tea traditional sri lankan cuisine featuring rice curry fresh fruits street food']"
      ]
     },
     "execution_count": 22,
     "metadata": {},
     "output_type": "execute_result"
    }
   ],
   "source": [
    "similar_records_infos = []\n",
    "\n",
    "for index, row in similar_records.iterrows():\n",
    "    similar_records_infos.append(row['combined_info'])\n",
    "\n",
    "similar_records_infos\n",
    "    "
   ]
  },
  {
   "cell_type": "markdown",
   "metadata": {},
   "source": [
    "### **Model Evaluation**\n",
    "\n",
    "#### **Relevance**"
   ]
  },
  {
   "cell_type": "code",
   "execution_count": 23,
   "metadata": {},
   "outputs": [
    {
     "name": "stdout",
     "output_type": "stream",
     "text": [
      "Cosine similarity: 0.72\n"
     ]
    }
   ],
   "source": [
    "similar_records_infos = ''.join(similar_records_infos)\n",
    "combined_infos = ''.join(combined_infos)\n",
    "\n",
    "def cosine_similarity_score(str1, str2):\n",
    "    if not str1 or not str2:\n",
    "        return 0.0\n",
    "    vectorizer = TfidfVectorizer()\n",
    "    vectors = vectorizer.fit_transform([str1, str2])\n",
    "    return cosine_similarity(vectors[0], vectors[1])[0][0]\n",
    "\n",
    "similarity = cosine_similarity_score(similar_records_infos, combined_infos)\n",
    "print(f\"Cosine similarity: {similarity:.2f}\")"
   ]
  },
  {
   "cell_type": "markdown",
   "metadata": {},
   "source": [
    "#### **Diversity**"
   ]
  },
  {
   "cell_type": "code",
   "execution_count": 24,
   "metadata": {},
   "outputs": [
    {
     "name": "stdout",
     "output_type": "stream",
     "text": [
      "Geospatial Diversity (Average Distance): 129.54 km\n"
     ]
    }
   ],
   "source": [
    "from geopy.distance import great_circle\n",
    "\n",
    "coordinates_of_similar_places = similar_records[['lat', 'lng']]\n",
    "coordinates_of_input_places = input_places[['lat', 'lng']]\n",
    "\n",
    "all_coordinates = pd.concat([coordinates_of_similar_places, coordinates_of_input_places], ignore_index=True)\n",
    "\n",
    "def geospatial_diversity(locations):\n",
    "    if len(locations) < 2:\n",
    "        return 0.0\n",
    "    \n",
    "    distances = []\n",
    "    for i in range(len(locations)):\n",
    "        for j in range(i + 1, len(locations)):\n",
    "            distance = great_circle(locations[i], locations[j]).kilometers\n",
    "            distances.append(distance)\n",
    "    \n",
    "    return np.mean(distances) if distances else 0.0\n",
    "\n",
    "\n",
    "all_coordinates_list = all_coordinates.values.tolist()\n",
    "diversity = geospatial_diversity(all_coordinates_list)\n",
    "print(f\"Geospatial Diversity (Average Distance): {diversity:.2f} km\")"
   ]
  },
  {
   "cell_type": "code",
   "execution_count": 25,
   "metadata": {},
   "outputs": [
    {
     "data": {
      "text/plain": [
       "316    Dakkhina Stupa - Anuradhapura\n",
       "314                     Umari Lagoon\n",
       "34                          Uppuveli\n",
       "138       Deegawapi Raja Maha Vihara\n",
       "320             Hali-ela , Sri Lanka\n",
       "Name: name, dtype: object"
      ]
     },
     "execution_count": 25,
     "metadata": {},
     "output_type": "execute_result"
    }
   ],
   "source": [
    "similar_records[\"name\"]"
   ]
  },
  {
   "cell_type": "markdown",
   "metadata": {},
   "source": [
    "### Saving models"
   ]
  },
  {
   "cell_type": "code",
   "execution_count": 26,
   "metadata": {},
   "outputs": [],
   "source": [
    "# Save the TF-IDF vectorizer\n",
    "with open('tfidf_vectorizer.pkl', 'wb') as file:\n",
    "    pickle.dump(tfidf, file)\n",
    "\n",
    "# Save the TF-IDF matrix\n",
    "with open('tfidf_matrix.pkl', 'wb') as file:\n",
    "    pickle.dump(tfidf_matrix, file)"
   ]
  },
  {
   "cell_type": "code",
   "execution_count": null,
   "metadata": {},
   "outputs": [],
   "source": []
  }
 ],
 "metadata": {
  "kernelspec": {
   "display_name": "td",
   "language": "python",
   "name": "python3"
  },
  "language_info": {
   "codemirror_mode": {
    "name": "ipython",
    "version": 3
   },
   "file_extension": ".py",
   "mimetype": "text/x-python",
   "name": "python",
   "nbconvert_exporter": "python",
   "pygments_lexer": "ipython3",
   "version": "3.11.5"
  }
 },
 "nbformat": 4,
 "nbformat_minor": 2
}
